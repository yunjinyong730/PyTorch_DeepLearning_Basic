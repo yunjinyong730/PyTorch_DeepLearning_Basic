{
  "nbformat": 4,
  "nbformat_minor": 0,
  "metadata": {
    "colab": {
      "provenance": []
    },
    "kernelspec": {
      "name": "python3",
      "display_name": "Python 3"
    },
    "language_info": {
      "name": "python"
    }
  },
  "cells": [
    {
      "cell_type": "markdown",
      "source": [
        "# PyTorch로 시작하는 딥러닝 입문 : DL 입문\n",
        "\n",
        "### 06-03 XOR 문제 - 단층 퍼셉트론 구현하기\n",
        "이번 챕터에서는 파이토치를 사용해서 단층 퍼셉트론을 구현하여 XOR 문제를 풀어보는 것을 시도해보겠습니다.\n",
        "\n",
        "\n",
        "<br>\n",
        "\n",
        "\n",
        "#### 1. 파이토치로 단층 퍼셉트론 구현하기"
      ],
      "metadata": {
        "id": "Y9YGmhbHWJXM"
      }
    },
    {
      "cell_type": "code",
      "execution_count": 1,
      "metadata": {
        "id": "0epbub4UWFVD"
      },
      "outputs": [],
      "source": [
        "import torch"
      ]
    },
    {
      "cell_type": "code",
      "source": [
        "# 만약 GPU 연산이 가능할 경우 GPU 연산을 할 수 있도록 설정한다.\n",
        "device = 'cuda' if torch.cuda.is_available() else 'cpu'\n",
        "torch.manual_seed(777)\n",
        "if device == 'cuda':\n",
        "    torch.cuda.manual_seed_all(777)"
      ],
      "metadata": {
        "id": "SseSUrmSWvHB"
      },
      "execution_count": 2,
      "outputs": []
    },
    {
      "cell_type": "markdown",
      "source": [
        "이제 XOR 문제에 해당되는 입력과 출력을 정의합니다."
      ],
      "metadata": {
        "id": "nPcGStXWW3g7"
      }
    },
    {
      "cell_type": "code",
      "source": [
        "X = torch.FloatTensor([[0, 0], [0, 1], [1, 0], [1, 1]]).to(device)\n",
        "Y = torch.FloatTensor([[0], [1], [1], [0]]).to(device)"
      ],
      "metadata": {
        "id": "TiuRywjHW5LO"
      },
      "execution_count": 3,
      "outputs": []
    },
    {
      "cell_type": "markdown",
      "source": [
        "이제 1개의 뉴런을 가지는 단층 퍼셉트론을 구현해봅시다. 단층 퍼셉트론이 처음 소개되었을 때는 계단 함수였지만, 우리는 이미 또 다른 활성화 함수인 시그모이드 함수를 알고 있으므로 시그모이드 함수를 사용해보겠습니다."
      ],
      "metadata": {
        "id": "iGdr4CYbXPjx"
      }
    },
    {
      "cell_type": "code",
      "source": [
        "import torch.nn as nn\n",
        "\n",
        "linear = nn.Linear(2, 1, bias=True)\n",
        "sigmoid = nn.Sigmoid()\n",
        "model = nn.Sequential(linear, sigmoid).to(device)"
      ],
      "metadata": {
        "id": "LOfXfALFXQXl"
      },
      "execution_count": 5,
      "outputs": []
    },
    {
      "cell_type": "markdown",
      "source": [
        "0 또는 1을 예측하는 이진 분류 문제이므로, 비용 함수로는 크로스엔트로피 함수를 사용합니다.\n",
        "nn.BCELoss()는 이진 분류에서 사용하는 크로스엔트로피 함수입니다."
      ],
      "metadata": {
        "id": "sv7X7ANNYnCG"
      }
    },
    {
      "cell_type": "code",
      "source": [
        "# 비용 함수와 옵티마이저 정의\n",
        "criterion = torch.nn.BCELoss().to(device)\n",
        "optimizer = torch.optim.SGD(model.parameters(), lr=1)"
      ],
      "metadata": {
        "id": "zPWTxeXXYy-7"
      },
      "execution_count": 7,
      "outputs": []
    },
    {
      "cell_type": "code",
      "source": [
        "#10,001번 epoch 수행. 0번 epoch부터 10,000번 epoch까지\n",
        "for step in range(10001):\n",
        "  optimizer.zero_grad()\n",
        "  hypothesis = model(X)\n",
        "\n",
        "  # 비용 함수\n",
        "  cost = criterion(hypothesis, Y) # (cost)Loss 계산\n",
        "  cost.backward() # Loss함수 역전파로 gradient 계산\n",
        "  optimizer.step() # SGD하며 파라미터 업데이트\n",
        "\n",
        "  if step % 100 == 0: # 100번째 epoch마다 cost 출력\n",
        "    print(step, cost.item())"
      ],
      "metadata": {
        "colab": {
          "base_uri": "https://localhost:8080/"
        },
        "id": "rZtv-DtSZG8B",
        "outputId": "1bec633a-e7cb-4bf6-8205-cda82acd5475"
      },
      "execution_count": 8,
      "outputs": [
        {
          "output_type": "stream",
          "name": "stdout",
          "text": [
            "0 0.7273973822593689\n",
            "100 0.6931476593017578\n",
            "200 0.6931471824645996\n",
            "300 0.6931471824645996\n",
            "400 0.6931471824645996\n",
            "500 0.6931471824645996\n",
            "600 0.6931471824645996\n",
            "700 0.6931471824645996\n",
            "800 0.6931471824645996\n",
            "900 0.6931471824645996\n",
            "1000 0.6931471824645996\n",
            "1100 0.6931471824645996\n",
            "1200 0.6931471824645996\n",
            "1300 0.6931471824645996\n",
            "1400 0.6931471824645996\n",
            "1500 0.6931471824645996\n",
            "1600 0.6931471824645996\n",
            "1700 0.6931471824645996\n",
            "1800 0.6931471824645996\n",
            "1900 0.6931471824645996\n",
            "2000 0.6931471824645996\n",
            "2100 0.6931471824645996\n",
            "2200 0.6931471824645996\n",
            "2300 0.6931471824645996\n",
            "2400 0.6931471824645996\n",
            "2500 0.6931471824645996\n",
            "2600 0.6931471824645996\n",
            "2700 0.6931471824645996\n",
            "2800 0.6931471824645996\n",
            "2900 0.6931471824645996\n",
            "3000 0.6931471824645996\n",
            "3100 0.6931471824645996\n",
            "3200 0.6931471824645996\n",
            "3300 0.6931471824645996\n",
            "3400 0.6931471824645996\n",
            "3500 0.6931471824645996\n",
            "3600 0.6931471824645996\n",
            "3700 0.6931471824645996\n",
            "3800 0.6931471824645996\n",
            "3900 0.6931471824645996\n",
            "4000 0.6931471824645996\n",
            "4100 0.6931471824645996\n",
            "4200 0.6931471824645996\n",
            "4300 0.6931471824645996\n",
            "4400 0.6931471824645996\n",
            "4500 0.6931471824645996\n",
            "4600 0.6931471824645996\n",
            "4700 0.6931471824645996\n",
            "4800 0.6931471824645996\n",
            "4900 0.6931471824645996\n",
            "5000 0.6931471824645996\n",
            "5100 0.6931471824645996\n",
            "5200 0.6931471824645996\n",
            "5300 0.6931471824645996\n",
            "5400 0.6931471824645996\n",
            "5500 0.6931471824645996\n",
            "5600 0.6931471824645996\n",
            "5700 0.6931471824645996\n",
            "5800 0.6931471824645996\n",
            "5900 0.6931471824645996\n",
            "6000 0.6931471824645996\n",
            "6100 0.6931471824645996\n",
            "6200 0.6931471824645996\n",
            "6300 0.6931471824645996\n",
            "6400 0.6931471824645996\n",
            "6500 0.6931471824645996\n",
            "6600 0.6931471824645996\n",
            "6700 0.6931471824645996\n",
            "6800 0.6931471824645996\n",
            "6900 0.6931471824645996\n",
            "7000 0.6931471824645996\n",
            "7100 0.6931471824645996\n",
            "7200 0.6931471824645996\n",
            "7300 0.6931471824645996\n",
            "7400 0.6931471824645996\n",
            "7500 0.6931471824645996\n",
            "7600 0.6931471824645996\n",
            "7700 0.6931471824645996\n",
            "7800 0.6931471824645996\n",
            "7900 0.6931471824645996\n",
            "8000 0.6931471824645996\n",
            "8100 0.6931471824645996\n",
            "8200 0.6931471824645996\n",
            "8300 0.6931471824645996\n",
            "8400 0.6931471824645996\n",
            "8500 0.6931471824645996\n",
            "8600 0.6931471824645996\n",
            "8700 0.6931471824645996\n",
            "8800 0.6931471824645996\n",
            "8900 0.6931471824645996\n",
            "9000 0.6931471824645996\n",
            "9100 0.6931471824645996\n",
            "9200 0.6931471824645996\n",
            "9300 0.6931471824645996\n",
            "9400 0.6931471824645996\n",
            "9500 0.6931471824645996\n",
            "9600 0.6931471824645996\n",
            "9700 0.6931471824645996\n",
            "9800 0.6931471824645996\n",
            "9900 0.6931471824645996\n",
            "10000 0.6931471824645996\n"
          ]
        }
      ]
    },
    {
      "cell_type": "markdown",
      "source": [
        "200번 에포크에 비용이 0.6931471824645996가 출력된 이후에는 10,000번 에포크가 되는 순간까지 더 이상 비용이 줄어들지 않습니다. 이는 단층 퍼셉트론은 XOR 문제를 풀 수 없기 때문입니다."
      ],
      "metadata": {
        "id": "0DI-q73qaPYa"
      }
    },
    {
      "cell_type": "markdown",
      "source": [
        "### 2. 학습된 단층 퍼셉트론의 예측값 확인하기\n",
        "총 10,001회 학습한 단층 퍼셉트론의 예측값도 확인해보겠습니다."
      ],
      "metadata": {
        "id": "IQ9GMgzoawrm"
      }
    },
    {
      "cell_type": "code",
      "source": [
        "with torch.no_grad():\n",
        "    hypothesis = model(X)\n",
        "    predicted = (hypothesis > 0.5).float()\n",
        "    accuracy = (predicted == Y).float().mean()\n",
        "    print('모델의 출력값(Hypothesis): ', hypothesis.detach().cpu().numpy())\n",
        "    print('모델의 예측값(Predicted): ', predicted.detach().cpu().numpy())\n",
        "    print('실제값(Y): ', Y.cpu().numpy())\n",
        "    print('정확도(Accuracy): ', accuracy.item())"
      ],
      "metadata": {
        "colab": {
          "base_uri": "https://localhost:8080/"
        },
        "id": "QpEJ0_IoaQ47",
        "outputId": "996d0ea7-6658-47dd-8c60-9d3710020ee0"
      },
      "execution_count": 9,
      "outputs": [
        {
          "output_type": "stream",
          "name": "stdout",
          "text": [
            "모델의 출력값(Hypothesis):  [[0.5]\n",
            " [0.5]\n",
            " [0.5]\n",
            " [0.5]]\n",
            "모델의 예측값(Predicted):  [[0.]\n",
            " [0.]\n",
            " [0.]\n",
            " [0.]]\n",
            "실제값(Y):  [[0.]\n",
            " [1.]\n",
            " [1.]\n",
            " [0.]]\n",
            "정확도(Accuracy):  0.5\n"
          ]
        }
      ]
    },
    {
      "cell_type": "markdown",
      "source": [
        "### 06-05 XOR 문제 - 다층 퍼셉트론 구현하기\n",
        "이번 챕터에서는 파이토치를 사용해서 다층 퍼셉트론을 구현하여 XOR 문제를 풀어보는 것을 시도해보겠습니다."
      ],
      "metadata": {
        "id": "Hpsgrhv5a_c2"
      }
    },
    {
      "cell_type": "code",
      "source": [
        "import torch\n",
        "import torch.nn as nn"
      ],
      "metadata": {
        "id": "ibaQ2Ynsa_KQ"
      },
      "execution_count": 10,
      "outputs": []
    },
    {
      "cell_type": "code",
      "source": [
        "device = 'cuda' if torch.cuda.is_available() else 'cpu'\n",
        "\n",
        "# for reproducibility\n",
        "torch.manual_seed(777)\n",
        "if device == 'cuda':\n",
        "    torch.cuda.manual_seed_all(777)"
      ],
      "metadata": {
        "id": "TFLoNdcLbPEU"
      },
      "execution_count": 11,
      "outputs": []
    },
    {
      "cell_type": "markdown",
      "source": [
        "XOR 문제를 풀기 위한 입력과 출력을 정의해줍니다."
      ],
      "metadata": {
        "id": "2AozbJWsbR7e"
      }
    },
    {
      "cell_type": "code",
      "source": [
        "X = torch.FloatTensor([[0, 0], [0, 1], [1, 0], [1, 1]]).to(device)\n",
        "Y = torch.FloatTensor([[0], [1], [1], [0]]).to(device)"
      ],
      "metadata": {
        "id": "6E196NptbRQ1"
      },
      "execution_count": 12,
      "outputs": []
    },
    {
      "cell_type": "markdown",
      "source": [
        "이제 다층 퍼셉트론을 설계합니다. 아래는 입력층, 은닉층1, 은닉층2, 은닉층3, 출력층을 가지는 은닉층이 3개인 인공 신경망입니다."
      ],
      "metadata": {
        "id": "ZTvjEttcbWW7"
      }
    },
    {
      "cell_type": "code",
      "source": [
        "model = nn.Sequential(\n",
        "    nn.Linear(2, 10, bias=True),\n",
        "    nn.Sigmoid(),\n",
        "    nn.Linear(10, 10, bias=True),\n",
        "    nn.Sigmoid(),\n",
        "    nn.Linear(10, 10, bias=True),\n",
        "    nn.Sigmoid(),\n",
        "    nn.Linear(10, 1, bias=True),\n",
        "    nn.Sigmoid()\n",
        ").to(device)"
      ],
      "metadata": {
        "id": "7KgLWyFobUV2"
      },
      "execution_count": 13,
      "outputs": []
    },
    {
      "cell_type": "markdown",
      "source": [
        "이제 비용 함수와 옵타마이저를 선언합니다. nn.BCELoss()는 이진 분류에서 사용하는 크로스엔트로피 함수입니다."
      ],
      "metadata": {
        "id": "aW0e_zj1cImb"
      }
    },
    {
      "cell_type": "code",
      "source": [
        "criterion = torch.nn.BCELoss().to(device)\n",
        "optimizer = torch.optim.SGD(model.parameters(), lr=1)"
      ],
      "metadata": {
        "id": "rKNsqrdFcKCD"
      },
      "execution_count": 14,
      "outputs": []
    },
    {
      "cell_type": "markdown",
      "source": [
        "총 10,001번의 에포크를 수행합니다. 각 에포크마다 역전파가 수행된다고 보면 되겠습니다."
      ],
      "metadata": {
        "id": "pZJdSkXGcXk8"
      }
    },
    {
      "cell_type": "code",
      "source": [
        "for epoch in range(10001):\n",
        "  optimizer.zero_grad()\n",
        "  hypothesis = model(X)\n",
        "\n",
        "  cost = criterion(hypothesis, Y) #Loss(cost) 계산\n",
        "  cost.backward() # 역전파로 gradient 구하고\n",
        "  optimizer.step() # 구한 gradient로 업데이트 (SGD)\n",
        "\n",
        "  if epoch % 100 == 0:\n",
        "    print(epoch, cost.item())"
      ],
      "metadata": {
        "colab": {
          "base_uri": "https://localhost:8080/"
        },
        "id": "2ftEu_cfcY8f",
        "outputId": "509f2581-02fc-4e8d-875e-b0d34cf9c061"
      },
      "execution_count": 15,
      "outputs": [
        {
          "output_type": "stream",
          "name": "stdout",
          "text": [
            "0 0.6948983073234558\n",
            "100 0.693155825138092\n",
            "200 0.6931535005569458\n",
            "300 0.6931513547897339\n",
            "400 0.693149209022522\n",
            "500 0.6931473016738892\n",
            "600 0.6931453943252563\n",
            "700 0.6931434869766235\n",
            "800 0.6931416988372803\n",
            "900 0.6931397914886475\n",
            "1000 0.6931380033493042\n",
            "1100 0.6931361556053162\n",
            "1200 0.6931343078613281\n",
            "1300 0.6931324005126953\n",
            "1400 0.6931304931640625\n",
            "1500 0.6931284666061401\n",
            "1600 0.6931264400482178\n",
            "1700 0.6931242942810059\n",
            "1800 0.6931220293045044\n",
            "1900 0.6931197047233582\n",
            "2000 0.6931172609329224\n",
            "2100 0.6931145191192627\n",
            "2200 0.6931115984916687\n",
            "2300 0.6931084990501404\n",
            "2400 0.6931051015853882\n",
            "2500 0.6931014657020569\n",
            "2600 0.6930974721908569\n",
            "2700 0.6930930018424988\n",
            "2800 0.6930879950523376\n",
            "2900 0.6930825114250183\n",
            "3000 0.6930763721466064\n",
            "3100 0.6930692791938782\n",
            "3200 0.6930612325668335\n",
            "3300 0.6930519342422485\n",
            "3400 0.6930410861968994\n",
            "3500 0.6930283904075623\n",
            "3600 0.6930132508277893\n",
            "3700 0.6929951906204224\n",
            "3800 0.6929728984832764\n",
            "3900 0.6929453015327454\n",
            "4000 0.6929103136062622\n",
            "4100 0.6928649544715881\n",
            "4200 0.6928046941757202\n",
            "4300 0.692721962928772\n",
            "4400 0.6926040649414062\n",
            "4500 0.6924278736114502\n",
            "4600 0.6921480894088745\n",
            "4700 0.6916665434837341\n",
            "4800 0.6907395124435425\n",
            "4900 0.688620388507843\n",
            "5000 0.6820822358131409\n",
            "5100 0.6472561359405518\n",
            "5200 0.4494591951370239\n",
            "5300 0.040959082543849945\n",
            "5400 0.00970381312072277\n",
            "5500 0.005025675054639578\n",
            "5600 0.0032926504500210285\n",
            "5700 0.002414308488368988\n",
            "5800 0.0018906794721260667\n",
            "5900 0.0015457236440852284\n",
            "6000 0.0013025871012359858\n",
            "6100 0.0011226324131712317\n",
            "6200 0.0009844365995377302\n",
            "6300 0.0008752153371460736\n",
            "6400 0.0007868335815146565\n",
            "6500 0.0007139019435271621\n",
            "6600 0.0006528779049403965\n",
            "6700 0.0006009973585605621\n",
            "6800 0.0005564477760344744\n",
            "6900 0.0005177835118956864\n",
            "7000 0.0004838814493268728\n",
            "7100 0.00045402138493955135\n",
            "7200 0.00042746184044517577\n",
            "7300 0.0004037291801068932\n",
            "7400 0.0003823669976554811\n",
            "7500 0.000363051425665617\n",
            "7600 0.0003455582191236317\n",
            "7700 0.00032959578675217927\n",
            "7800 0.00031496811425313354\n",
            "7900 0.00030150680686347187\n",
            "8000 0.0002891648327931762\n",
            "8100 0.0002776731562335044\n",
            "8200 0.0002671047404874116\n",
            "8300 0.0002572371740825474\n",
            "8400 0.0002480485418345779\n",
            "8500 0.0002394788316451013\n",
            "8600 0.00023144138685893267\n",
            "8700 0.00022394144616555423\n",
            "8800 0.00021683801605831832\n",
            "8900 0.0002101719583151862\n",
            "9000 0.00020392694568727165\n",
            "9100 0.00019799816072918475\n",
            "9200 0.0001923730451380834\n",
            "9300 0.000187097757589072\n",
            "9400 0.00018204246589448303\n",
            "9500 0.00017725792713463306\n",
            "9600 0.00017273490084335208\n",
            "9700 0.00016839243471622467\n",
            "9800 0.0001642809365876019\n",
            "9900 0.00016034928557928652\n",
            "10000 0.00015660682402085513\n"
          ]
        }
      ]
    },
    {
      "cell_type": "markdown",
      "source": [
        "### 2. 학습된 다층 퍼셉트론의 예측값 확인하기\n",
        "이제 모델이 XOR 문제를 풀 수 있는지 테스트 해봅시다."
      ],
      "metadata": {
        "id": "ckAnKFOUcyKC"
      }
    },
    {
      "cell_type": "code",
      "source": [
        "with torch.no_grad():\n",
        "    hypothesis = model(X)\n",
        "    predicted = (hypothesis > 0.5).float()\n",
        "    accuracy = (predicted == Y).float().mean()\n",
        "    print('모델의 출력값(Hypothesis): ', hypothesis.detach().cpu().numpy())\n",
        "    print('모델의 예측값(Predicted): ', predicted.detach().cpu().numpy())\n",
        "    print('실제값(Y): ', Y.cpu().numpy())\n",
        "    print('정확도(Accuracy): ', accuracy.item())"
      ],
      "metadata": {
        "colab": {
          "base_uri": "https://localhost:8080/"
        },
        "id": "6OdoJoQQc3r3",
        "outputId": "589b7717-955a-4b58-9286-44649100341d"
      },
      "execution_count": 16,
      "outputs": [
        {
          "output_type": "stream",
          "name": "stdout",
          "text": [
            "모델의 출력값(Hypothesis):  [[1.1174576e-04]\n",
            " [9.9982870e-01]\n",
            " [9.9984229e-01]\n",
            " [1.8542419e-04]]\n",
            "모델의 예측값(Predicted):  [[0.]\n",
            " [1.]\n",
            " [1.]\n",
            " [0.]]\n",
            "실제값(Y):  [[0.]\n",
            " [1.]\n",
            " [1.]\n",
            " [0.]]\n",
            "정확도(Accuracy):  1.0\n"
          ]
        }
      ]
    },
    {
      "cell_type": "markdown",
      "source": [
        "06-06 비선형 활성화 함수(Activation function)\n",
        "비선형 활성화 함수(Activation function)는 입력을 받아 수학적 변환을 수행하고 출력을 생성하는 함수입니다. 앞서 배운 시그모이드 함수나 소프트맥스 함수는 대표적인 활성화 함수 중 하나입니다.\n",
        "\n",
        "이번 챕터에서는 인공 신경망의 은닉층에서 왜 활성화 함수로 시그모이드(sigmoid) 함수를 사용하는 것을 왜 지양해야 하는지와 은닉층에서 주로 사용되는 함수인 렐루(ReLU) 함수를 소개하고 그 외의 다른 활성화 함수들에 대해서도 소개합니다."
      ],
      "metadata": {
        "id": "3jA2J0P_ebaf"
      }
    },
    {
      "cell_type": "code",
      "source": [
        "import numpy as np # 넘파이 사용\n",
        "import matplotlib.pyplot as plt # 맷플롯립 사용"
      ],
      "metadata": {
        "id": "Icep5G2OehxO"
      },
      "execution_count": 17,
      "outputs": []
    },
    {
      "cell_type": "markdown",
      "source": [
        "활성화 함수의 특징은 선형 함수가 아닌 비선형 함수여야 한다는 점입니다. 선형 함수란 출력이 입력의 상수배만큼 변하는 함수를 선형함수라고 합니다. 예를 들어\n",
        "라는 함수가 있을 때, W와 b는 상수입니다. 이 식은 그래프를 그리면 직선이 그려집니다. 반대로 비선형 함수는 직선 1개로는 그릴 수 없는 함수를 말합니다.\n",
        "\n",
        "인공 신경망의 능력을 높이기 위해서는 은닉층을 계속해서 추가해야 합니다. 그런데 만약 활성화 함수로 선형 함수를 사용하게 되면 은닉층을 쌓을 수가 없습니다. 예를 들어 활성화 함수로 선형 함수를 선택하고, 층을 계속 쌓는다고 가정해보겠습니다. 활성화 함수는\n",
        "라고 가정합니다. 여기다가 은닉층을 두 개 추가한다고하면 출력층을 포함해서\n",
        "가 됩니다. 이를 식으로 표현하면\n",
        "입니다. 그런데 이는 잘 생각해보면\n",
        "의 세 제곱값을\n",
        "라고 정의해버리면\n",
        "와 같이 다시 표현이 가능합니다. 즉, 선형 함수로는 은닉층을 여러번 추가하더라도 1회 추가한 것과 차이를 줄 수 없습니다.\n",
        "\n",
        "선형 함수를 사용한 은닉층을 1회 추가한 것과 연속으로 추가한 것이 차이가 없다는 뜻이지, 선형 함수를 사용한 층이 아무 의미가 없다는 뜻이 아닙니다. 학습 가능한 가중치가 새로 생긴다는 점에서 분명히 의미가 있습니다. 이와 같이 선형 함수를 사용한 층을 활성화 함수를 사용하는 은닉층과 구분하기 위해서 선형층(linear layer)이나 투사층(projection layer) 등의 다른 표현을 사용하여 표현하기도 합니다. 활성화 함수를 사용하는 일반적인 은닉층을 선형층과 대비되는 표현을 사용하면 비선형층(nonlinear layer)입니다."
      ],
      "metadata": {
        "id": "-90ihFAhejhE"
      }
    },
    {
      "cell_type": "markdown",
      "source": [
        "## 2. 시그모이드 함수(Sigmoid function)와 기울기 소실\n",
        "시그모이드 함수를 사용한 어떤 인공 신경망이 있다고 가정해보겠습니다.\n",
        "위 인공 신경망의 학습 과정은 다음과 같습니다. 우선 인공 신경망은 입력에 대해서 순전파(forward propagation) 연산을 하고, 그리고 순전파 연산을 통해 나온 예측값과 실제값의 오차를 손실 함수(loss function)을 통해 계산하고, 그리고 이 손실(loss)을 미분을 통해서 기울기(gradient)를 구하고, 이를 통해 역전파(back propagation)를 수행합니다.\n",
        "\n",
        "그리고 시그모이드 함수의 문제점은 미분을 해서 기울기(gradient)를 구할 때 발생합니다."
      ],
      "metadata": {
        "id": "PyW32RLle9oG"
      }
    },
    {
      "cell_type": "code",
      "source": [
        "# 시그모이드 함수 그래프를 그리는 코드\n",
        "def sigmoid(x):\n",
        "    return 1/(1+np.exp(-x))\n",
        "x = np.arange(-5.0, 5.0, 0.1)\n",
        "y = sigmoid(x)\n",
        "\n",
        "plt.plot(x, y)\n",
        "plt.plot([0,0],[1.0,0.0], ':') # 가운데 점선 추가\n",
        "plt.title('Sigmoid Function')\n",
        "plt.show()"
      ],
      "metadata": {
        "colab": {
          "base_uri": "https://localhost:8080/",
          "height": 452
        },
        "id": "IE1Soe8Ierw0",
        "outputId": "3c0c471b-d695-4dea-d7a6-4504f8764e28"
      },
      "execution_count": 18,
      "outputs": [
        {
          "output_type": "display_data",
          "data": {
            "text/plain": [
              "<Figure size 640x480 with 1 Axes>"
            ],
            "image/png": "[encoded data removed]"
          },
          "metadata": {}
        }
      ]
    },
    {
      "cell_type": "markdown",
      "source": [
        "위의 그래프는 시그모이드 함수의 그래프를 보여줍니다. 위 그래프를 시그모이드 함수의 출력값이 0 또는 1에 가까워지면, 그래프의 기울기가 완만해지는 모습을 볼 수 있습니다.\n",
        "이런 끝에 값들, 기울기가 완만한 구역의 값들을의 기울기를 계산하면 0에 가가운 아주 작은 값이 나오게 됩니다.\n",
        "그런데 역전파 과정에서 0에 가까운 아주 작은 기울기가 곱해지게 되면, 앞단에는 기울기가 잘 전달되지 않게 됩니다. 이러한 현상을 기울기 소실(Vanishing Gradient) 문제라고 합니다.\n",
        "시그모이드 함수를 사용하는 은닉층의 개수가 다수가 될 경우에는 0에 가까운 기울기가 계속 곱해지면 앞단에서는 거의 기울기를 전파받을 수 없게 됩니다. 다시 말해 매개변수\n",
        "가 업데이트 되지 않아 학습이 되지를 않습니다.\n",
        "\n",
        "\n",
        "<br>\n",
        "<br>\n",
        "\n",
        "## 3. 하이퍼볼릭탄젠트 함수(Hyperbolic tangent function)\n",
        "하이퍼볼릭탄젠트 함수(tanh)는 입력값을 -1과 1사이의 값으로 변환합니다. 그래프를 그려보겠습니다."
      ],
      "metadata": {
        "id": "CxUqGKOIfHuE"
      }
    },
    {
      "cell_type": "code",
      "source": [
        "x = np.arange(-5.0, 5.0, 0.1) # -5.0부터 5.0까지 0.1 간격 생성\n",
        "y = np.tanh(x)\n",
        "\n",
        "plt.plot(x, y)\n",
        "plt.plot([0,0],[1.0,-1.0], ':')\n",
        "plt.axhline(y=0, color='orange', linestyle='--')\n",
        "plt.title('Tanh Function')\n",
        "plt.show()"
      ],
      "metadata": {
        "colab": {
          "base_uri": "https://localhost:8080/",
          "height": 452
        },
        "id": "hRbqNWnyfFZc",
        "outputId": "2e89f22e-811a-4e78-b30f-aeab0c1e4edd"
      },
      "execution_count": 19,
      "outputs": [
        {
          "output_type": "display_data",
          "data": {
            "text/plain": [
              "<Figure size 640x480 with 1 Axes>"
            ],
            "image/png": "[encoded data removed]"
          },
          "metadata": {}
        }
      ]
    },
    {
      "cell_type": "markdown",
      "source": [
        "하이퍼볼릭탄젠트 함수도 -1과 1에 가까운 출력값을 출력할 때, 시그모이드 함수와 같은 문제가 발생합니다. 그러나 하이퍼볼릭탄젠트 함수의 경우에는 시그모이드 함수와는 달리 0을 중심으로 하고 있는데, 이때문에 시그모이드 함수와 비교하면 반환값의 변화폭이 더 큽니다. 그래서 시그모이드 함수보다는 기울기 소실 증상이 적은 편입니다. 그래서 은닉층에서 시그모이드 함수보다는 많이 사용됩니다\n",
        "\n",
        "<br>\n",
        "<br>\n",
        "\n",
        "## 4. 렐루 함수(ReLU)\n",
        "인공 신경망에서 가장 최고의 인기를 얻고 있는 함수입니다"
      ],
      "metadata": {
        "id": "Q5F-l-AjfuFH"
      }
    },
    {
      "cell_type": "code",
      "source": [
        "def relu(x):\n",
        "    return np.maximum(0, x)\n",
        "\n",
        "x = np.arange(-5.0, 5.0, 0.1)\n",
        "y = relu(x)\n",
        "\n",
        "plt.plot(x, y)\n",
        "plt.plot([0,0],[5.0,0.0], ':')\n",
        "plt.title('Relu Function')\n",
        "plt.show()"
      ],
      "metadata": {
        "colab": {
          "base_uri": "https://localhost:8080/",
          "height": 452
        },
        "id": "50R2sHuwfu--",
        "outputId": "555d1ed1-b5c5-47ac-f432-f9d64ec7ba5e"
      },
      "execution_count": 20,
      "outputs": [
        {
          "output_type": "display_data",
          "data": {
            "text/plain": [
              "<Figure size 640x480 with 1 Axes>"
            ],
            "image/png": "[encoded data removed]"
          },
          "metadata": {}
        }
      ]
    },
    {
      "cell_type": "markdown",
      "source": [
        "렐루 함수는 음수를 입력하면 0을 출력하고, 양수를 입력하면 입력값을 그대로 반환합니다. 렐루 함수는 특정 양수값에 수렴하지 않으므로 깊은 신경망에서 시그모이드 함수보다 훨씬 더 잘 작동합니다. 뿐만 아니라, 렐루 함수는 시그모이드 함수와 하이퍼볼릭탄젠트 함수와 같이 어떤 연산이 필요한 것이 아니라 단순 임계값이므로 연산 속도도 빠릅니다.\n",
        "\n",
        "하지만 여전히 문제점이 존재하는데, 입력값이 음수면 기울기도 0이 됩니다. 그리고 이 뉴런은 다시 회생하는 것이 매우 어렵습니다. 이 문제를 죽은 렐루(dying ReLU)라고 합니다.\n",
        "\n",
        "<br>\n",
        "<br>\n",
        "\n",
        "## 5. 리키 렐루(Leaky ReLU)\n",
        "죽은 렐루를 보완하기 위해 ReLU의 변형 함수들이 등장하기 시작했습니다. 변형 함수는 여러 개가 있지만 여기서는 Leaky ReLU에 대해서만 소개합니다. Leaky ReLU는 입력값이 음수일 경우에 0이 아니라 0.001과 같은 매우 작은 수를 반환하도록 되어있습니다."
      ],
      "metadata": {
        "id": "aXW_QimRf7o6"
      }
    },
    {
      "cell_type": "code",
      "source": [
        "a = 0.1"
      ],
      "metadata": {
        "id": "3pLmyvYmgF1c"
      },
      "execution_count": 21,
      "outputs": []
    },
    {
      "cell_type": "code",
      "source": [
        "def leaky_relu(x):\n",
        "    return np.maximum(a*x, x)\n",
        "\n",
        "x = np.arange(-5.0, 5.0, 0.1)\n",
        "y = leaky_relu(x)\n",
        "\n",
        "plt.plot(x, y)\n",
        "plt.plot([0,0],[5.0,0.0], ':')\n",
        "plt.title('Leaky ReLU Function')\n",
        "plt.show()"
      ],
      "metadata": {
        "colab": {
          "base_uri": "https://localhost:8080/",
          "height": 452
        },
        "id": "iRb9s3uOf8P_",
        "outputId": "7cc1b302-b154-4322-cb71-947704d4e8bd"
      },
      "execution_count": 22,
      "outputs": [
        {
          "output_type": "display_data",
          "data": {
            "text/plain": [
              "<Figure size 640x480 with 1 Axes>"
            ],
            "image/png": "[encoded data removed]"
          },
          "metadata": {}
        }
      ]
    },
    {
      "cell_type": "markdown",
      "source": [
        "## 6. 소프트맥스 함수(Softamx function)\n",
        "은닉층에서 ReLU(또는 ReLU 변형) 함수들을 사용하는 것이 일반적이지만 그렇다고 해서 앞서 배운 시그모이드 함수나 소프트맥스 함수가 사용되지 않는다는 의미는 아닙니다. 분류 문제를 로지스틱 회귀와 소프트맥스 회귀를 출력층에 적용하여 사용합니다."
      ],
      "metadata": {
        "id": "m2bljec6gT23"
      }
    },
    {
      "cell_type": "code",
      "source": [
        "x = np.arange(-5.0, 5.0, 0.1) # -5.0부터 5.0까지 0.1 간격 생성\n",
        "y = np.exp(x) / np.sum(np.exp(x))\n",
        "\n",
        "plt.plot(x, y)\n",
        "plt.title('Softmax Function')\n",
        "plt.show()"
      ],
      "metadata": {
        "colab": {
          "base_uri": "https://localhost:8080/",
          "height": 452
        },
        "id": "Ovo5B7i7gWXy",
        "outputId": "ef0b853b-6bac-4714-927a-ba023ee017fa"
      },
      "execution_count": 23,
      "outputs": [
        {
          "output_type": "display_data",
          "data": {
            "text/plain": [
              "<Figure size 640x480 with 1 Axes>"
            ],
            "image/png": "[encoded data removed]"
          },
          "metadata": {}
        }
      ]
    },
    {
      "cell_type": "markdown",
      "source": [
        "## 7. 출력층의 활성화 함수와 오차 함수의 관계\n",
        "은닉층의 활성화 함수로는 ReLU 또는 Leaky ReLU와 같은 ReLU의 변형을 사용하라고 정리해봤습니다. 그렇다면 출력층은 어떨까요? 각 문제에 따른 출력층의 활성화 함수와 비용 함수의 관계를 정리해보면 다음과 같습니다. 이 외에도 다중 레이블 분류도 있지만 여기서는 다루지 않겠습니다.\n",
        "![스크린샷 2024-07-25 오후 3.14.48.png](data:image/png;base64,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)\n",
        "\n",
        "주의할 점은 nn.CrossEntropyLoss()는 소프트맥스 함수를 이미 포함하고 있습니다.\n",
        "\n"
      ],
      "metadata": {
        "id": "Iti8uWs6gf3F"
      }
    },
    {
      "cell_type": "markdown",
      "source": [
        "## 06-07 다층 퍼셉트론으로 손글씨 분류하기\n",
        "이번 챕터에서는 다층 퍼셉트론을 구현하고, 딥 러닝을 통해서 숫자 필기 데이터를 분류해봅시다.\n",
        "\n",
        "MNIST 데이터랑 다른 데이터입니다."
      ],
      "metadata": {
        "id": "zeTykDAAiFHD"
      }
    },
    {
      "cell_type": "markdown",
      "source": [
        "### 1. 숫자 필기 데이터 소개\n",
        "숫자 필기 데이터는 사이킷런 패키지에서 제공하는 분류용 예제 데이터입니다. 0부터 9까지의 숫자를 손으로 쓴 이미지 데이터로 load_digits() 명령으로 로드할 수 있습니다. 각 이미지는 0부터 15까지의 명암을 가지는 8 × 8 = 64 픽셀 해상도의 흑백 이미지입니다. 그리고 해당 이미지가 1,797개가 있습니다.\n",
        "\n",
        "load_digits()를 통해 이미지 데이터를 로드할 수 있습니다. 로드한 전체 데이터를 digits에 저장합니다."
      ],
      "metadata": {
        "id": "OG_MYXPCiNaN"
      }
    },
    {
      "cell_type": "code",
      "source": [
        "%matplotlib inline\n",
        "import matplotlib.pyplot as plt # 시각화를 위한 맷플롯립\n",
        "from sklearn.datasets import load_digits\n",
        "digits = load_digits() # 1,979개의 이미지 데이터 로드"
      ],
      "metadata": {
        "id": "1DTeDH5-ipQ3"
      },
      "execution_count": 24,
      "outputs": []
    },
    {
      "cell_type": "markdown",
      "source": [
        "첫번째 샘플을 출력해보겠습니다. .images[인덱스]를 사용하면 해당 인덱스의 이미지를 행렬로서 출력할 수 있습니다."
      ],
      "metadata": {
        "id": "tYhSralJiszu"
      }
    },
    {
      "cell_type": "code",
      "source": [
        "print(digits.images[0])"
      ],
      "metadata": {
        "colab": {
          "base_uri": "https://localhost:8080/"
        },
        "id": "d829EiiPix8R",
        "outputId": "7be90995-923e-4122-b49c-8f8aba6149fa"
      },
      "execution_count": 25,
      "outputs": [
        {
          "output_type": "stream",
          "name": "stdout",
          "text": [
            "[[ 0.  0.  5. 13.  9.  1.  0.  0.]\n",
            " [ 0.  0. 13. 15. 10. 15.  5.  0.]\n",
            " [ 0.  3. 15.  2.  0. 11.  8.  0.]\n",
            " [ 0.  4. 12.  0.  0.  8.  8.  0.]\n",
            " [ 0.  5.  8.  0.  0.  9.  8.  0.]\n",
            " [ 0.  4. 11.  0.  1. 12.  7.  0.]\n",
            " [ 0.  2. 14.  5. 10. 12.  0.  0.]\n",
            " [ 0.  0.  6. 13. 10.  0.  0.  0.]]\n"
          ]
        }
      ]
    },
    {
      "cell_type": "markdown",
      "source": [
        "첫번째 샘플이 8 × 8 행렬로 출력된 것을 볼 수 있습니다. 0을 흰색 도화지, 0보다 큰 숫자들을 검은색 점이라고 상상해보면 숫자 0의 실루엣처럼 보입니다. 실제로 레이블도 숫자 0인지 첫번째 샘플의 레이블을 확인해봅시다."
      ],
      "metadata": {
        "id": "x6JPUolOi6y9"
      }
    },
    {
      "cell_type": "code",
      "source": [
        "print(digits.target[0])"
      ],
      "metadata": {
        "colab": {
          "base_uri": "https://localhost:8080/"
        },
        "id": "orCtyBl2i8Ca",
        "outputId": "892d819c-76ed-46b1-c94c-8554c136b1d5"
      },
      "execution_count": 26,
      "outputs": [
        {
          "output_type": "stream",
          "name": "stdout",
          "text": [
            "0\n"
          ]
        }
      ]
    },
    {
      "cell_type": "markdown",
      "source": [
        "첫번째 샘플의 레이블은 0인 것을 확인할 수 있습니다.\n",
        "전체 샘플 중에서 상위 5개의 샘플만 시각화해봅시다."
      ],
      "metadata": {
        "id": "azSY85Ddi_HA"
      }
    },
    {
      "cell_type": "code",
      "source": [
        "images_and_labels = list(zip(digits.images, digits.target))\n",
        "for index, (image, label) in enumerate(images_and_labels[:5]): # 5개의 샘플만 출력\n",
        "    plt.subplot(2, 5, index + 1)\n",
        "    plt.axis('off')\n",
        "    plt.imshow(image, cmap=plt.cm.gray_r, interpolation='nearest')\n",
        "    plt.title('sample: %i' % label)"
      ],
      "metadata": {
        "colab": {
          "base_uri": "https://localhost:8080/",
          "height": 144
        },
        "id": "A5kmVC8JjEzH",
        "outputId": "d33c4af4-3d47-46ae-9dec-f88cffa84ae6"
      },
      "execution_count": 27,
      "outputs": [
        {
          "output_type": "display_data",
          "data": {
            "text/plain": [
              "<Figure size 640x480 with 5 Axes>"
            ],
            "image/png": "[encoded data removed]"
          },
          "metadata": {}
        }
      ]
    },
    {
      "cell_type": "markdown",
      "source": [
        "이제 훈련 데이터와 레이블을 각각 X, Y에 저장해봅시다. digits.images는 모든 샘플을 8 × 8 행렬로 저장하고 있습니다. 더 나은 방법은 digts.data를 사용하는 것입니다. 이는 8 × 8 행렬을 전부 64차원의 벡터로 변환해서 저장한 상태입니다. digits.data를 이용해서 첫번째 샘플을 출력해보겠습니다."
      ],
      "metadata": {
        "id": "yY3GyHHcjnA7"
      }
    },
    {
      "cell_type": "code",
      "source": [
        "print(digits.data[0])"
      ],
      "metadata": {
        "colab": {
          "base_uri": "https://localhost:8080/"
        },
        "id": "raL4eB0Xi_fh",
        "outputId": "9b823f92-42f8-4233-ace6-869977e79e8e"
      },
      "execution_count": 28,
      "outputs": [
        {
          "output_type": "stream",
          "name": "stdout",
          "text": [
            "[ 0.  0.  5. 13.  9.  1.  0.  0.  0.  0. 13. 15. 10. 15.  5.  0.  0.  3.\n",
            " 15.  2.  0. 11.  8.  0.  0.  4. 12.  0.  0.  8.  8.  0.  0.  5.  8.  0.\n",
            "  0.  9.  8.  0.  0.  4. 11.  0.  1. 12.  7.  0.  0.  2. 14.  5. 10. 12.\n",
            "  0.  0.  0.  0.  6. 13. 10.  0.  0.  0.]\n"
          ]
        }
      ]
    },
    {
      "cell_type": "markdown",
      "source": [
        "이를 X로 저장하고, 레이블을 Y에 저장합니다."
      ],
      "metadata": {
        "id": "JriZqALgjsH2"
      }
    },
    {
      "cell_type": "code",
      "source": [
        "X = digits.data # 이미지. 즉, 특성 행렬\n",
        "Y = digits.target # 각 이미지에 대한 레이블"
      ],
      "metadata": {
        "id": "nI6jErctjswM"
      },
      "execution_count": 29,
      "outputs": []
    },
    {
      "cell_type": "markdown",
      "source": [
        "## 2. 다층 퍼셉트론 분류기 만들기"
      ],
      "metadata": {
        "id": "FZ6KqgdvjwRf"
      }
    },
    {
      "cell_type": "code",
      "source": [
        "import torch\n",
        "import torch.nn as nn\n",
        "from torch import optim"
      ],
      "metadata": {
        "id": "76jQfxlyjv2A"
      },
      "execution_count": 30,
      "outputs": []
    },
    {
      "cell_type": "code",
      "source": [
        "model = nn.Sequential(\n",
        "    nn.Linear(64, 32), # input_layer = 64, hidden_layer1 = 32\n",
        "    nn.ReLU(),\n",
        "    nn.Linear(32, 16), # hidden_layer2 = 32, hidden_layer3 = 16\n",
        "    nn.ReLU(),\n",
        "    nn.Linear(16, 10) # hidden_layer3 = 16, output_layer = 10\n",
        ")"
      ],
      "metadata": {
        "id": "utFOyPpoj4Ft"
      },
      "execution_count": 31,
      "outputs": []
    },
    {
      "cell_type": "code",
      "source": [
        "X = torch.tensor(X, dtype=torch.float32)\n",
        "Y = torch.tensor(Y, dtype=torch.int64)"
      ],
      "metadata": {
        "id": "f0yDpPXmmIEg"
      },
      "execution_count": 32,
      "outputs": []
    },
    {
      "cell_type": "code",
      "source": [
        "loss_fn = nn.CrossEntropyLoss() # 이 비용 함수는 소프트맥스 함수를 포함하고 있음."
      ],
      "metadata": {
        "id": "bNc54BdImNIZ"
      },
      "execution_count": 33,
      "outputs": []
    },
    {
      "cell_type": "code",
      "source": [
        "optimizer = optim.Adam(model.parameters())"
      ],
      "metadata": {
        "id": "W5ReBWmImOIG"
      },
      "execution_count": 34,
      "outputs": []
    },
    {
      "cell_type": "code",
      "source": [
        "losses = []"
      ],
      "metadata": {
        "id": "PslacvZXn4CV"
      },
      "execution_count": 35,
      "outputs": []
    },
    {
      "cell_type": "code",
      "source": [
        "for epoch in range(100):\n",
        "  optimizer.zero_grad()\n",
        "  y_pred = model(X) # forward 연산\n",
        "  loss = loss_fn(y_pred, Y)\n",
        "  loss.backward()\n",
        "  optimizer.step()\n",
        "\n",
        "  if epoch % 10 == 0:\n",
        "    print('Epoch {:4d}/{} Cost: {:.6f}'.format(\n",
        "        epoch, 100, loss.item()\n",
        "    ))\n",
        "\n",
        "  losses.append(loss.item())"
      ],
      "metadata": {
        "colab": {
          "base_uri": "https://localhost:8080/"
        },
        "id": "PC9iVL6Xn5hW",
        "outputId": "9c839969-c752-44c9-d098-a662c6fc9fbf"
      },
      "execution_count": 36,
      "outputs": [
        {
          "output_type": "stream",
          "name": "stdout",
          "text": [
            "Epoch    0/100 Cost: 2.381846\n",
            "Epoch   10/100 Cost: 2.086940\n",
            "Epoch   20/100 Cost: 1.844468\n",
            "Epoch   30/100 Cost: 1.555474\n",
            "Epoch   40/100 Cost: 1.246410\n",
            "Epoch   50/100 Cost: 0.968091\n",
            "Epoch   60/100 Cost: 0.724376\n",
            "Epoch   70/100 Cost: 0.519714\n",
            "Epoch   80/100 Cost: 0.380598\n",
            "Epoch   90/100 Cost: 0.293385\n"
          ]
        }
      ]
    },
    {
      "cell_type": "code",
      "source": [
        "plt.plot(losses)"
      ],
      "metadata": {
        "colab": {
          "base_uri": "https://localhost:8080/",
          "height": 448
        },
        "id": "a494yGn2ogmv",
        "outputId": "d070682b-6b6a-44f2-83f7-cc9429d2a932"
      },
      "execution_count": 37,
      "outputs": [
        {
          "output_type": "execute_result",
          "data": {
            "text/plain": [
              "[<matplotlib.lines.Line2D at 0x7b566a7ea770>]"
            ]
          },
          "metadata": {},
          "execution_count": 37
        },
        {
          "output_type": "display_data",
          "data": {
            "text/plain": [
              "<Figure size 640x480 with 1 Axes>"
            ],
            "image/png": "[encoded data removed]"
          },
          "metadata": {}
        }
      ]
    },
    {
      "cell_type": "markdown",
      "source": [
        "## 06-08 다층 퍼셉트론으로 MNIST 분류하기\n",
        "이번 챕터에서는 은닉층을 추가로 넣어 다층 퍼셉트론을 구현하고, 딥 러닝을 통해서 MNIST 데이터를 분류해봅시다.\n",
        "\n",
        "<br>\n",
        "<br>\n",
        "\n",
        "### 1. 데이터 로드하기\n",
        "\n",
        "MNIST 데이터셋을 불러옵니다. cache=True는 다운로드한 데이터를 로컬 디스크에 저장하여 다음 호출 때 빠르게 로드합니다."
      ],
      "metadata": {
        "id": "Oy72WdsKoxWO"
      }
    },
    {
      "cell_type": "code",
      "source": [
        "import numpy as np\n",
        "import matplotlib.pyplot as plt\n",
        "from sklearn.datasets import fetch_openml"
      ],
      "metadata": {
        "id": "Y-Pf7HUOpBr-"
      },
      "execution_count": 41,
      "outputs": []
    },
    {
      "cell_type": "code",
      "source": [
        "mnist = fetch_openml('mnist_784', version=1, cache=True, as_frame=False)"
      ],
      "metadata": {
        "colab": {
          "base_uri": "https://localhost:8080/"
        },
        "id": "QdlDYIg_o91b",
        "outputId": "2d17d652-83e0-4bf7-8d2c-f72c24ed2c44"
      },
      "execution_count": 42,
      "outputs": [
        {
          "output_type": "stream",
          "name": "stderr",
          "text": [
            "/usr/local/lib/python3.10/dist-packages/sklearn/datasets/_openml.py:968: FutureWarning: The default value of `parser` will change from `'liac-arff'` to `'auto'` in 1.4. You can set `parser='auto'` to silence this warning. Therefore, an `ImportError` will be raised from 1.4 if the dataset is dense and pandas is not installed. Note that the pandas parser may return different data types. See the Notes Section in fetch_openml's API doc for details.\n",
            "  warn(\n"
          ]
        }
      ]
    },
    {
      "cell_type": "markdown",
      "source": [
        "레이블 데이터 타입을 정수형으로 변환합니다."
      ],
      "metadata": {
        "id": "TlpJZ926qafP"
      }
    },
    {
      "cell_type": "code",
      "source": [
        "mnist.target = mnist.target.astype(np.int8)"
      ],
      "metadata": {
        "id": "uO9hyNqJqbAr"
      },
      "execution_count": 43,
      "outputs": []
    },
    {
      "cell_type": "markdown",
      "source": [
        "모든 이미지 데이터를 0-255 범위에서 0-1 범위로 정규화합니다. 이는 학습 효율을 높이기 위해 수행합니다. 레이블 데이터를 y에 저장합니다."
      ],
      "metadata": {
        "id": "dEoFfxfjqfRk"
      }
    },
    {
      "cell_type": "code",
      "source": [
        "X = mnist.data / 255  # 0-255값을 [0,1] 구간으로 정규화\n",
        "y = mnist.target"
      ],
      "metadata": {
        "id": "XKXGd232qiGB"
      },
      "execution_count": 44,
      "outputs": []
    },
    {
      "cell_type": "code",
      "source": [
        "X[0]"
      ],
      "metadata": {
        "colab": {
          "base_uri": "https://localhost:8080/"
        },
        "id": "hm3_Zpjfql0X",
        "outputId": "621b80ec-b384-4a50-edaa-5e9233575c14"
      },
      "execution_count": 45,
      "outputs": [
        {
          "output_type": "execute_result",
          "data": {
            "text/plain": [
              "array([0.        , 0.        , 0.        , 0.        , 0.        ,\n",
              "       0.        , 0.        , 0.        , 0.        , 0.        ,\n",
              "       0.        , 0.        , 0.        , 0.        , 0.        ,\n",
              "       0.        , 0.        , 0.        , 0.        , 0.        ,\n",
              "       0.        , 0.        , 0.        , 0.        , 0.        ,\n",
              "       0.        , 0.        , 0.        , 0.        , 0.        ,\n",
              "       0.        , 0.        , 0.        , 0.        , 0.        ,\n",
              "       0.        , 0.        , 0.        , 0.        , 0.        ,\n",
              "       0.        , 0.        , 0.        , 0.        , 0.        ,\n",
              "       0.        , 0.        , 0.        , 0.        , 0.        ,\n",
              "       0.        , 0.        , 0.        , 0.        , 0.        ,\n",
              "       0.        , 0.        , 0.        , 0.        , 0.        ,\n",
              "       0.        , 0.        , 0.        , 0.        , 0.        ,\n",
              "       0.        , 0.        , 0.        , 0.        , 0.        ,\n",
              "       0.        , 0.        , 0.        , 0.        , 0.        ,\n",
              "       0.        , 0.        , 0.        , 0.        , 0.        ,\n",
              "       0.        , 0.        , 0.        , 0.        , 0.        ,\n",
              "       0.        , 0.        , 0.        , 0.        , 0.        ,\n",
              "       0.        , 0.        , 0.        , 0.        , 0.        ,\n",
              "       0.        , 0.        , 0.        , 0.        , 0.        ,\n",
              "       0.        , 0.        , 0.        , 0.        , 0.        ,\n",
              "       0.        , 0.        , 0.        , 0.        , 0.        ,\n",
              "       0.        , 0.        , 0.        , 0.        , 0.        ,\n",
              "       0.        , 0.        , 0.        , 0.        , 0.        ,\n",
              "       0.        , 0.        , 0.        , 0.        , 0.        ,\n",
              "       0.        , 0.        , 0.        , 0.        , 0.        ,\n",
              "       0.        , 0.        , 0.        , 0.        , 0.        ,\n",
              "       0.        , 0.        , 0.        , 0.        , 0.        ,\n",
              "       0.        , 0.        , 0.        , 0.        , 0.        ,\n",
              "       0.        , 0.        , 0.        , 0.        , 0.        ,\n",
              "       0.        , 0.        , 0.01176471, 0.07058824, 0.07058824,\n",
              "       0.07058824, 0.49411765, 0.53333333, 0.68627451, 0.10196078,\n",
              "       0.65098039, 1.        , 0.96862745, 0.49803922, 0.        ,\n",
              "       0.        , 0.        , 0.        , 0.        , 0.        ,\n",
              "       0.        , 0.        , 0.        , 0.        , 0.        ,\n",
              "       0.        , 0.11764706, 0.14117647, 0.36862745, 0.60392157,\n",
              "       0.66666667, 0.99215686, 0.99215686, 0.99215686, 0.99215686,\n",
              "       0.99215686, 0.88235294, 0.6745098 , 0.99215686, 0.94901961,\n",
              "       0.76470588, 0.25098039, 0.        , 0.        , 0.        ,\n",
              "       0.        , 0.        , 0.        , 0.        , 0.        ,\n",
              "       0.        , 0.        , 0.        , 0.19215686, 0.93333333,\n",
              "       0.99215686, 0.99215686, 0.99215686, 0.99215686, 0.99215686,\n",
              "       0.99215686, 0.99215686, 0.99215686, 0.98431373, 0.36470588,\n",
              "       0.32156863, 0.32156863, 0.21960784, 0.15294118, 0.        ,\n",
              "       0.        , 0.        , 0.        , 0.        , 0.        ,\n",
              "       0.        , 0.        , 0.        , 0.        , 0.        ,\n",
              "       0.        , 0.07058824, 0.85882353, 0.99215686, 0.99215686,\n",
              "       0.99215686, 0.99215686, 0.99215686, 0.77647059, 0.71372549,\n",
              "       0.96862745, 0.94509804, 0.        , 0.        , 0.        ,\n",
              "       0.        , 0.        , 0.        , 0.        , 0.        ,\n",
              "       0.        , 0.        , 0.        , 0.        , 0.        ,\n",
              "       0.        , 0.        , 0.        , 0.        , 0.        ,\n",
              "       0.31372549, 0.61176471, 0.41960784, 0.99215686, 0.99215686,\n",
              "       0.80392157, 0.04313725, 0.        , 0.16862745, 0.60392157,\n",
              "       0.        , 0.        , 0.        , 0.        , 0.        ,\n",
              "       0.        , 0.        , 0.        , 0.        , 0.        ,\n",
              "       0.        , 0.        , 0.        , 0.        , 0.        ,\n",
              "       0.        , 0.        , 0.        , 0.        , 0.05490196,\n",
              "       0.00392157, 0.60392157, 0.99215686, 0.35294118, 0.        ,\n",
              "       0.        , 0.        , 0.        , 0.        , 0.        ,\n",
              "       0.        , 0.        , 0.        , 0.        , 0.        ,\n",
              "       0.        , 0.        , 0.        , 0.        , 0.        ,\n",
              "       0.        , 0.        , 0.        , 0.        , 0.        ,\n",
              "       0.        , 0.        , 0.        , 0.        , 0.54509804,\n",
              "       0.99215686, 0.74509804, 0.00784314, 0.        , 0.        ,\n",
              "       0.        , 0.        , 0.        , 0.        , 0.        ,\n",
              "       0.        , 0.        , 0.        , 0.        , 0.        ,\n",
              "       0.        , 0.        , 0.        , 0.        , 0.        ,\n",
              "       0.        , 0.        , 0.        , 0.        , 0.        ,\n",
              "       0.        , 0.        , 0.04313725, 0.74509804, 0.99215686,\n",
              "       0.2745098 , 0.        , 0.        , 0.        , 0.        ,\n",
              "       0.        , 0.        , 0.        , 0.        , 0.        ,\n",
              "       0.        , 0.        , 0.        , 0.        , 0.        ,\n",
              "       0.        , 0.        , 0.        , 0.        , 0.        ,\n",
              "       0.        , 0.        , 0.        , 0.        , 0.        ,\n",
              "       0.        , 0.1372549 , 0.94509804, 0.88235294, 0.62745098,\n",
              "       0.42352941, 0.00392157, 0.        , 0.        , 0.        ,\n",
              "       0.        , 0.        , 0.        , 0.        , 0.        ,\n",
              "       0.        , 0.        , 0.        , 0.        , 0.        ,\n",
              "       0.        , 0.        , 0.        , 0.        , 0.        ,\n",
              "       0.        , 0.        , 0.        , 0.        , 0.        ,\n",
              "       0.31764706, 0.94117647, 0.99215686, 0.99215686, 0.46666667,\n",
              "       0.09803922, 0.        , 0.        , 0.        , 0.        ,\n",
              "       0.        , 0.        , 0.        , 0.        , 0.        ,\n",
              "       0.        , 0.        , 0.        , 0.        , 0.        ,\n",
              "       0.        , 0.        , 0.        , 0.        , 0.        ,\n",
              "       0.        , 0.        , 0.        , 0.        , 0.17647059,\n",
              "       0.72941176, 0.99215686, 0.99215686, 0.58823529, 0.10588235,\n",
              "       0.        , 0.        , 0.        , 0.        , 0.        ,\n",
              "       0.        , 0.        , 0.        , 0.        , 0.        ,\n",
              "       0.        , 0.        , 0.        , 0.        , 0.        ,\n",
              "       0.        , 0.        , 0.        , 0.        , 0.        ,\n",
              "       0.        , 0.        , 0.        , 0.0627451 , 0.36470588,\n",
              "       0.98823529, 0.99215686, 0.73333333, 0.        , 0.        ,\n",
              "       0.        , 0.        , 0.        , 0.        , 0.        ,\n",
              "       0.        , 0.        , 0.        , 0.        , 0.        ,\n",
              "       0.        , 0.        , 0.        , 0.        , 0.        ,\n",
              "       0.        , 0.        , 0.        , 0.        , 0.        ,\n",
              "       0.        , 0.        , 0.        , 0.97647059, 0.99215686,\n",
              "       0.97647059, 0.25098039, 0.        , 0.        , 0.        ,\n",
              "       0.        , 0.        , 0.        , 0.        , 0.        ,\n",
              "       0.        , 0.        , 0.        , 0.        , 0.        ,\n",
              "       0.        , 0.        , 0.        , 0.        , 0.        ,\n",
              "       0.        , 0.        , 0.        , 0.18039216, 0.50980392,\n",
              "       0.71764706, 0.99215686, 0.99215686, 0.81176471, 0.00784314,\n",
              "       0.        , 0.        , 0.        , 0.        , 0.        ,\n",
              "       0.        , 0.        , 0.        , 0.        , 0.        ,\n",
              "       0.        , 0.        , 0.        , 0.        , 0.        ,\n",
              "       0.        , 0.        , 0.        , 0.        , 0.15294118,\n",
              "       0.58039216, 0.89803922, 0.99215686, 0.99215686, 0.99215686,\n",
              "       0.98039216, 0.71372549, 0.        , 0.        , 0.        ,\n",
              "       0.        , 0.        , 0.        , 0.        , 0.        ,\n",
              "       0.        , 0.        , 0.        , 0.        , 0.        ,\n",
              "       0.        , 0.        , 0.        , 0.        , 0.        ,\n",
              "       0.09411765, 0.44705882, 0.86666667, 0.99215686, 0.99215686,\n",
              "       0.99215686, 0.99215686, 0.78823529, 0.30588235, 0.        ,\n",
              "       0.        , 0.        , 0.        , 0.        , 0.        ,\n",
              "       0.        , 0.        , 0.        , 0.        , 0.        ,\n",
              "       0.        , 0.        , 0.        , 0.        , 0.        ,\n",
              "       0.        , 0.09019608, 0.25882353, 0.83529412, 0.99215686,\n",
              "       0.99215686, 0.99215686, 0.99215686, 0.77647059, 0.31764706,\n",
              "       0.00784314, 0.        , 0.        , 0.        , 0.        ,\n",
              "       0.        , 0.        , 0.        , 0.        , 0.        ,\n",
              "       0.        , 0.        , 0.        , 0.        , 0.        ,\n",
              "       0.        , 0.        , 0.07058824, 0.67058824, 0.85882353,\n",
              "       0.99215686, 0.99215686, 0.99215686, 0.99215686, 0.76470588,\n",
              "       0.31372549, 0.03529412, 0.        , 0.        , 0.        ,\n",
              "       0.        , 0.        , 0.        , 0.        , 0.        ,\n",
              "       0.        , 0.        , 0.        , 0.        , 0.        ,\n",
              "       0.        , 0.        , 0.        , 0.21568627, 0.6745098 ,\n",
              "       0.88627451, 0.99215686, 0.99215686, 0.99215686, 0.99215686,\n",
              "       0.95686275, 0.52156863, 0.04313725, 0.        , 0.        ,\n",
              "       0.        , 0.        , 0.        , 0.        , 0.        ,\n",
              "       0.        , 0.        , 0.        , 0.        , 0.        ,\n",
              "       0.        , 0.        , 0.        , 0.        , 0.        ,\n",
              "       0.        , 0.53333333, 0.99215686, 0.99215686, 0.99215686,\n",
              "       0.83137255, 0.52941176, 0.51764706, 0.0627451 , 0.        ,\n",
              "       0.        , 0.        , 0.        , 0.        , 0.        ,\n",
              "       0.        , 0.        , 0.        , 0.        , 0.        ,\n",
              "       0.        , 0.        , 0.        , 0.        , 0.        ,\n",
              "       0.        , 0.        , 0.        , 0.        , 0.        ,\n",
              "       0.        , 0.        , 0.        , 0.        , 0.        ,\n",
              "       0.        , 0.        , 0.        , 0.        , 0.        ,\n",
              "       0.        , 0.        , 0.        , 0.        , 0.        ,\n",
              "       0.        , 0.        , 0.        , 0.        , 0.        ,\n",
              "       0.        , 0.        , 0.        , 0.        , 0.        ,\n",
              "       0.        , 0.        , 0.        , 0.        , 0.        ,\n",
              "       0.        , 0.        , 0.        , 0.        , 0.        ,\n",
              "       0.        , 0.        , 0.        , 0.        , 0.        ,\n",
              "       0.        , 0.        , 0.        , 0.        , 0.        ,\n",
              "       0.        , 0.        , 0.        , 0.        , 0.        ,\n",
              "       0.        , 0.        , 0.        , 0.        , 0.        ,\n",
              "       0.        , 0.        , 0.        , 0.        , 0.        ,\n",
              "       0.        , 0.        , 0.        , 0.        , 0.        ,\n",
              "       0.        , 0.        , 0.        , 0.        , 0.        ,\n",
              "       0.        , 0.        , 0.        , 0.        , 0.        ,\n",
              "       0.        , 0.        , 0.        , 0.        ])"
            ]
          },
          "metadata": {},
          "execution_count": 45
        }
      ]
    },
    {
      "cell_type": "markdown",
      "source": [
        "첫 번째 MNIST 데이터 샘플을 시각화하고 해당 이미지의 레이블을 출력합니다.\n",
        "\n"
      ],
      "metadata": {
        "id": "4_B9BzOpqo0I"
      }
    },
    {
      "cell_type": "code",
      "source": [
        "plt.imshow(X[0].reshape(28, 28), cmap='gray')\n",
        "print(\"이 이미지 데이터의 레이블은 {:.0f}이다\".format(y[0]))"
      ],
      "metadata": {
        "colab": {
          "base_uri": "https://localhost:8080/",
          "height": 448
        },
        "id": "I07f7SlWqpUd",
        "outputId": "f108f8ab-749e-47c0-854c-5d6fe8c8def9"
      },
      "execution_count": 46,
      "outputs": [
        {
          "output_type": "stream",
          "name": "stdout",
          "text": [
            "이 이미지 데이터의 레이블은 5이다\n"
          ]
        },
        {
          "output_type": "display_data",
          "data": {
            "text/plain": [
              "<Figure size 640x480 with 1 Axes>"
            ],
            "image/png": "[encoded data removed]"
          },
          "metadata": {}
        }
      ]
    },
    {
      "cell_type": "markdown",
      "source": [
        "2. 훈련 데이터와 테스트 데이터의 분리\n"
      ],
      "metadata": {
        "id": "3_Yo-j7Mqrzr"
      }
    },
    {
      "cell_type": "code",
      "source": [
        "import torch\n",
        "from torch.utils.data import TensorDataset, DataLoader\n",
        "from sklearn.model_selection import train_test_split"
      ],
      "metadata": {
        "id": "xWUGmTnqqtuv"
      },
      "execution_count": 47,
      "outputs": []
    },
    {
      "cell_type": "markdown",
      "source": [
        "데이터를 훈련 데이터와 테스트 데이터로 분할합니다.\n",
        "\n"
      ],
      "metadata": {
        "id": "pfN4gXsYrCHf"
      }
    },
    {
      "cell_type": "code",
      "source": [
        "X_train, X_test, y_train, y_test = train_test_split(X, y, test_size=1/7, random_state=0)\n"
      ],
      "metadata": {
        "id": "PatFpswIrD71"
      },
      "execution_count": 48,
      "outputs": []
    },
    {
      "cell_type": "markdown",
      "source": [
        " 데이터를 PyTorch의 텐서로 변환 후, TensorDataset을 사용하여 데이터셋을 구성합니다. 이 데이터셋을 DataLoader에 적용하여 미니 배치 학습이나 추론 시 편리하게 데이터를 로드할 수 있게 합니다."
      ],
      "metadata": {
        "id": "4qvWSjgurDia"
      }
    },
    {
      "cell_type": "code",
      "source": [
        "# 텐서로 변환\n",
        "X_train = torch.Tensor(X_train)\n",
        "X_test = torch.Tensor(X_test)\n",
        "y_train = torch.LongTensor(y_train)\n",
        "y_test = torch.LongTensor(y_test)\n",
        "\n",
        "# TensorDataset 객체 생성\n",
        "ds_train = TensorDataset(X_train, y_train)\n",
        "ds_test = TensorDataset(X_test, y_test)\n",
        "\n",
        "# DataLoader 객체 생성\n",
        "loader_train = DataLoader(ds_train, batch_size=64, shuffle=True)\n",
        "loader_test = DataLoader(ds_test, batch_size=64, shuffle=False)"
      ],
      "metadata": {
        "id": "I3eLzVyqrSQw"
      },
      "execution_count": 49,
      "outputs": []
    },
    {
      "cell_type": "markdown",
      "source": [
        "## 3. 다층 퍼셉트론\n",
        "이 코드는 784(28x28)개의 입력 뉴런, 100개의 은닉 뉴런, 그리고 10개의 출력 뉴런(0~9)을 가지는 다층 퍼셉트론을 구성합니다. ReLU 활성화 함수를 사용하여 비선형성을 추가하고, 최종 출력은 10개의 클래스에 대한 점수를 제공합니다."
      ],
      "metadata": {
        "id": "G7yyxR6Nra5L"
      }
    },
    {
      "cell_type": "code",
      "source": [
        "from torch import nn\n",
        "\n",
        "model = nn.Sequential()\n",
        "model.add_module('fc1', nn.Linear(28*28*1, 100))\n",
        "model.add_module('relu1', nn.ReLU())\n",
        "model.add_module('fc2', nn.Linear(100, 100))\n",
        "model.add_module('relu2', nn.ReLU())\n",
        "model.add_module('fc3', nn.Linear(100, 10))\n",
        "\n",
        "print(model)"
      ],
      "metadata": {
        "colab": {
          "base_uri": "https://localhost:8080/"
        },
        "id": "SKVjeu9IrhPF",
        "outputId": "766e8370-f261-4fec-c12b-e94ea16ff13a"
      },
      "execution_count": 50,
      "outputs": [
        {
          "output_type": "stream",
          "name": "stdout",
          "text": [
            "Sequential(\n",
            "  (fc1): Linear(in_features=784, out_features=100, bias=True)\n",
            "  (relu1): ReLU()\n",
            "  (fc2): Linear(in_features=100, out_features=100, bias=True)\n",
            "  (relu2): ReLU()\n",
            "  (fc3): Linear(in_features=100, out_features=10, bias=True)\n",
            ")\n"
          ]
        }
      ]
    },
    {
      "cell_type": "markdown",
      "source": [
        "여기에서는 크로스 엔트로피 손실 함수를 사용하여 모델의 예측과 실제 레이블 사이의 차이를 계산합니다. Adam 최적화 기법을 사용하여 모델의 가중치를 업데이트합니다."
      ],
      "metadata": {
        "id": "U_welAtvrxjr"
      }
    },
    {
      "cell_type": "code",
      "source": [
        "from torch import optim\n",
        "\n",
        "# 오차함수 선택\n",
        "loss_fn = nn.CrossEntropyLoss()\n",
        "\n",
        "# 가중치를 학습하기 위한 최적화 기법 선택\n",
        "optimizer = optim.Adam(model.parameters(), lr=0.01)"
      ],
      "metadata": {
        "id": "OfAypNTxrx73"
      },
      "execution_count": 51,
      "outputs": []
    },
    {
      "cell_type": "markdown",
      "source": [
        "train 함수는 모델을 훈련 모드로 설정하고, 데이터 로더에서 미니배치를 하나씩 꺼내 모델을 훈련합니다. 손실을 계산하고 역전파를 통해 그래디언트를 계산한 다음, 최적화기를 사용하여 가중치를 업데이트합니다"
      ],
      "metadata": {
        "id": "OhhZJERtr3c-"
      }
    },
    {
      "cell_type": "code",
      "source": [
        "def train(epoch):\n",
        "    model.train()  # 신경망을 학습 모드로 전환\n",
        "\n",
        "    # 데이터로더에서 미니배치를 하나씩 꺼내 학습을 수행\n",
        "    for data, targets in loader_train:\n",
        "\n",
        "        optimizer.zero_grad()  # 경사를 0으로 초기화\n",
        "        outputs = model(data)  # 데이터를 입력하고 출력을 계산\n",
        "        loss = loss_fn(outputs, targets)  # 출력과 훈련 데이터 정답 간의 오차를 계산\n",
        "        loss.backward()  # 오차를 역전파 계산\n",
        "        optimizer.step()  # 역전파 계산한 값으로 가중치를 수정\n",
        "\n",
        "    print(\"epoch{}：완료\\n\".format(epoch))"
      ],
      "metadata": {
        "id": "pdedEJ4Qr6pO"
      },
      "execution_count": 52,
      "outputs": []
    },
    {
      "cell_type": "markdown",
      "source": [
        "test 함수는 모델을 평가하기 위해 추론 모드로 설정하고, 데이터 로더를 통해 테스트 데이터에 대한 예측을 수행합니다. 예측된 클래스와 실제 클래스를 비교하여 정확도를 계산합니다."
      ],
      "metadata": {
        "id": "IqOvxYLSsM3c"
      }
    },
    {
      "cell_type": "code",
      "source": [
        "def test():\n",
        "    model.eval()  # 신경망을 추론 모드로 전환\n",
        "    correct = 0\n",
        "\n",
        "    # 데이터로더에서 미니배치를 하나씩 꺼내 추론을 수행\n",
        "    with torch.no_grad():  # 추론 과정에는 미분이 필요없음\n",
        "        for data, targets in loader_test:\n",
        "\n",
        "            outputs = model(data)  # 데이터를 입력하고 출력을 계산\n",
        "\n",
        "            # 추론 계산\n",
        "            _, predicted = torch.max(outputs.data, 1)  # 확률이 가장 높은 레이블이 무엇인지 계산\n",
        "            correct += predicted.eq(targets.data.view_as(predicted)).sum()  # 정답과 일치한 경우 정답 카운트를 증가\n",
        "\n",
        "    # 정확도 출력\n",
        "    data_num = len(loader_test.dataset)  # 데이터 총 건수\n",
        "    print('\\n테스트 데이터에서 예측 정확도: {}/{} ({:.0f}%)\\n'.format(correct,\n",
        "                                                   data_num, 100. * correct / data_num))"
      ],
      "metadata": {
        "id": "9bQWTwiSsNpW"
      },
      "execution_count": 53,
      "outputs": []
    },
    {
      "cell_type": "code",
      "source": [
        "test()"
      ],
      "metadata": {
        "colab": {
          "base_uri": "https://localhost:8080/"
        },
        "id": "6UcFviHLsnWw",
        "outputId": "64b179fc-a006-44bf-b91c-a23def5fba0c"
      },
      "execution_count": 54,
      "outputs": [
        {
          "output_type": "stream",
          "name": "stdout",
          "text": [
            "\n",
            "테스트 데이터에서 예측 정확도: 972/10000 (10%)\n",
            "\n"
          ]
        }
      ]
    },
    {
      "cell_type": "code",
      "source": [
        "for epoch in range(3):\n",
        "    train(epoch)\n",
        "\n",
        "test()"
      ],
      "metadata": {
        "colab": {
          "base_uri": "https://localhost:8080/"
        },
        "id": "eOra7r4Gspqj",
        "outputId": "4b662bfa-c672-43bd-bc05-9d0a959d6c73"
      },
      "execution_count": 55,
      "outputs": [
        {
          "output_type": "stream",
          "name": "stdout",
          "text": [
            "epoch0：완료\n",
            "\n",
            "epoch1：완료\n",
            "\n",
            "epoch2：완료\n",
            "\n",
            "\n",
            "테스트 데이터에서 예측 정확도: 9589/10000 (96%)\n",
            "\n"
          ]
        }
      ]
    },
    {
      "cell_type": "markdown",
      "source": [
        "## 06-09 과적합(Overfitting)을 막는 방법들\n",
        "학습 데이터에 모델이 과적합되는 현상은 모델의 성능을 떨어트리는 주요 이슈입니다. 모델이 과적합되면 훈련 데이터에 대한 정확도는 높을지라도, 새로운 데이터. 즉, 검증 데이터나 테스트 데이터에 대해서는 제대로 동작하지 않습니다. 이는 모델이 학습 데이터를 불필요할정도로 과하게 암기하여 훈련 데이터에 포함된 노이즈까지 학습한 상태라고 해석할 수 있습니다. 이번 챕터에서는 모델의 과적합을 막을 수 있는 여러가지 방법에 대해서 논의합니다."
      ],
      "metadata": {
        "id": "zbIJO_dKs_3n"
      }
    },
    {
      "cell_type": "markdown",
      "source": [
        "### 1. 데이터의 양을 늘리기\n",
        "모델은 데이터의 양이 적을 경우, 해당 데이터의 특정 패턴이나 노이즈까지 쉽게 암기하기 되므로 과적합 현상이 발생할 확률이 늘어납니다. 그렇기 때문에 데이터의 양을 늘릴 수록 모델은 데이터의 일반적인 패턴을 학습하여 과적합을 방지할 수 있습니다.\n",
        "\n",
        "만약, 데이터의 양이 적을 경우에는 의도적으로 기존의 데이터를 조금씩 변형하고 추가하여 데이터의 양을 늘리기도 하는데 이를 데이터 증식 또는 증강(Data Augmentation)이라고 합니다. 이미지의 경우에는 데이터 증식이 많이 사용되는데 이미지를 돌리거나 노이즈를 추가하고, 일부분을 수정하는 등으로 데이터를 증식시킵니다.\n",
        "\n"
      ],
      "metadata": {
        "id": "EpbuaXystDVp"
      }
    },
    {
      "cell_type": "markdown",
      "source": [
        "### 2. 모델의 복잡도 줄이기\n",
        "인공 신경망의 복잡도는 은닉층(hidden layer)의 수나 매개변수의 수 등으로 결정됩니다. 과적합 현상이 포착되었을 때, 인공 신경망 모델에 대해서 할 수 있는 한 가지 조치는 인공 신경망의 복잡도를 줄이는 것 입니다."
      ],
      "metadata": {
        "id": "Svx3v8RntckD"
      }
    },
    {
      "cell_type": "code",
      "source": [
        "class Architecture1(nn.Module):\n",
        "  def __init__(self, input_size, hidden_size, num_classes):\n",
        "    super(Architecture1, self).__init__()\n",
        "    self.fc1 = nn.Linear(input_size, hidden_size)\n",
        "    self.relu = nn.ReLU()\n",
        "    self.fc2 = nn.Linear(hidden_size, hidden_size)\n",
        "    self.relu = nnReLU()\n",
        "    self.fc3 = nn.Linear(hidden_size, num_classes)\n",
        "\n",
        "  def forward(self, x):\n",
        "    out = self.fc1(x)\n",
        "    out = self.relu(out)\n",
        "    out = self.fc2(out)\n",
        "    out = self.relu(out)\n",
        "    out = self.fc3(out)\n",
        "    return out"
      ],
      "metadata": {
        "id": "Rt4v12Y6tcK6"
      },
      "execution_count": 56,
      "outputs": []
    },
    {
      "cell_type": "markdown",
      "source": [
        "인공 신경망은 3개의 선형 레이어(Linear)를 가지고 있습니다. 위 인공 신경망이 입력 데이터에 과적합 현상을 보인다면, 다음과 같이 인공 신경망의 복잡도를 줄일 수 있습니다."
      ],
      "metadata": {
        "id": "RgDskAd0tkVS"
      }
    },
    {
      "cell_type": "code",
      "source": [
        "class Architecture1(nn.Module):\n",
        "  def __init__(self, input_size, hidden_size, num_classes):\n",
        "    super(Architecture1, self).__init__()\n",
        "    self.fc1 = nn.Linear(input_size, hidden_size)\n",
        "    self.relu = nn.ReLU()\n",
        "    self.fc2 = nn.Linear(hidden_size, num_classes)\n",
        "\n",
        "  def forward(self, x):\n",
        "    out = self.fc1(x)\n",
        "    out = self.relu(out)\n",
        "    out = self.fc2(out)\n",
        "    return out"
      ],
      "metadata": {
        "id": "YiaNoZEntkzY"
      },
      "execution_count": 57,
      "outputs": []
    },
    {
      "cell_type": "markdown",
      "source": [
        "## 3. 가중치 규제(Regularization) 적용하기\n",
        "복잡한 모델이 간단한 모델보다 과적합될 가능성이 높습니다. 그리고 간단한 모델은 적은 수의 매개변수를 가진 모델을 말합니다. 복잡한 모델을 좀 더 간단하게 하는 방법으로 가중치 규제(Regularizaiton)가 있습니다.\n",
        "\n",
        "L1 규제 : 가중치 w들의 절대값 합계를 비용 함수에 추가합니다. L1 노름이라고도 합니다.\n",
        "L2 규제 : 모든 가중치 w들의 제곱합을 비용 함수에 추가합니다. L2 노름이라고도 합니다.\n",
        "\n",
        "L1 규제는 기존의 비용 함수에 모든 가중치에 대해서\n",
        "를 더 한 값을 비용 함수로 하고, L2 규제는 기존의 비용 함수에 모든 가중치에 대해서\n",
        "\n",
        "를 더 한 값을 비용 함수로 합니다.\n",
        "는 규제의 강도를 정하는 하이퍼파라미터입니다.\n",
        "\n",
        "L2 규제는 L1 규제와는 달리 가중치들의 제곱을 최소화하므로 w의 값이 완전히 0이 되기보다는 0에 가까워지기는 경향을 띕니다. L1 규제는 어떤 특성들이 모델에 영향을 주고 있는지를 정확히 판단하고자 할 때 유용합니다. 만약, 이런 판단이 필요없다면 경험적으로는 L2 규제가 더 잘 동작하므로 L2 규제를 더 권장합니다. 인공 신경망에서 L2 규제는 가중치 감쇠(weight decay)라고도 부릅니다.\n",
        "\n",
        "파이토치에서는 옵티마이저의 weight_decay 매개변수를 설정하므로서 L2 규제를 적용합니다. weight_decay 매개변수의 기본값은 0입니다. weight_decay 매개변수에 다른 값을 설정할 수도 있습니다."
      ],
      "metadata": {
        "id": "dX6VYog-tn4y"
      }
    },
    {
      "cell_type": "code",
      "source": [
        "model = Architecture1(10, 20, 2)\n",
        "optimizer = torch.optim.Adam(model.parameters(), lr=1e-4, weight_decay=1e-5)"
      ],
      "metadata": {
        "id": "sxrOjtFit8Lo"
      },
      "execution_count": 58,
      "outputs": []
    },
    {
      "cell_type": "markdown",
      "source": [
        "## 4. 드롭아웃(Dropout)\n",
        "드롭아웃은 학습 과정에서 신경망의 일부를 사용하지 않는 방법입니다."
      ],
      "metadata": {
        "id": "hwtalVEIt_bt"
      }
    },
    {
      "cell_type": "markdown",
      "source": [
        "예를 들어 드롭아웃의 비율을 0.5로 한다면 학습 과정마다 랜덤으로 절반의 뉴런을 사용하지 않고, 절반의 뉴런만을 사용합니다.\n",
        "\n",
        "드롭아웃은 신경망 학습 시에만 사용하고, 예측 시에는 사용하지 않는 것이 일반적입니다. 학습 시에 인공 신경망이 특정 뉴런 또는 특정 조합에 너무 의존적이게 되는 것을 방지해주고, 매번 랜덤 선택으로 뉴런들을 사용하지 않으므로 서로 다른 신경망들을 앙상블하여 사용하는 것 같은 효과를 내어 과적합을 방지합니다."
      ],
      "metadata": {
        "id": "yw_wfLbWuEgr"
      }
    },
    {
      "cell_type": "markdown",
      "source": [
        "# 06-10 기울기 소실(Gradient Vanishing)과 폭주(Exploding)\n",
        "깊은 인공 신경망을 학습하다보면 역전파 과정에서 입력층으로 갈 수록 기울기(Gradient)가 점차적으로 작아지는 현상이 발생할 수 있습니다. 입력층에 가까운 층들에서 가중치들이 업데이트가 제대로 되지 않으면 결국 최적의 모델을 찾을 수 없게 됩니다. 이를 기울기 소실(Gradient Vanishing)이라고 합니다.\n",
        "\n",
        "반대의 경우도 있습니다. 기울기가 점차 커지더니 가중치들이 비정상적으로 큰 값이 되면서 결국 발산되기도 합니다. 이를 기울기 폭주(Gradient Exploding)이라고 하며, 뒤에서 배울 순환 신경망(Recurrent Neural Network, RNN)에서 발생할 수 있습니다.\n",
        "\n",
        "이번 챕터에서는 기울기 소실 또는 기울기 폭주를 막는 방법들에 대해서 다룹니다."
      ],
      "metadata": {
        "id": "ClcYViD4uYHW"
      }
    },
    {
      "cell_type": "markdown",
      "source": [
        "### 1. ReLU와 ReLU의 변형들\n",
        "앞에서 배운 내용을 간단히 복습해봅시다. 시그모이드 함수를 사용하면 입력의 절대값이 클 경우에 시그모이드 함수의 출력값이 0 또는 1에 수렴하면서 기울기가 0에 가까워집니다. 그래서 역전파 과정에서 전파 시킬 기울기가 점차 사라져서 입력층 방향으로 갈 수록 제대로 역전파가 되지 않는 기울기 소실 문제가 발생할 수 있습니다.\n",
        "\n",
        "기울기 소실을 완화하는 가장 간단한 방법은 은닉층의 활성화 함수로 시그모이드나 하이퍼볼릭탄젠트 함수 대신에 ReLU나 ReLU의 변형 함수와 같은 Leaky ReLU를 사용하는 것입니다.\n",
        "\n",
        "은닉층에서는 시그모이드 함수를 사용하지 마세요.\n",
        "Leaky ReLU를 사용하면 모든 입력값에 대해서 기울기가 0에 수렴하지 않아 죽은 ReLU 문제를 해결합니다.\n",
        "은닉층에서는 ReLU나 Leaky ReLU와 같은 ReLU 함수의 변형들을 사용하세요."
      ],
      "metadata": {
        "id": "PlrcsLthuoVw"
      }
    },
    {
      "cell_type": "markdown",
      "source": [
        "### 2. 가중치 초기화(Weight initialization)\n",
        "같은 모델을 훈련시키더라도 가중치가 초기에 어떤 값을 가졌느냐에 따라서 모델의 훈련 결과가 달라지기도 합니다. 다시 말해 가중치 초기화만 적절히 해줘도 기울기 소실 문제과 같은 문제를 완화시킬 수 있습니다."
      ],
      "metadata": {
        "id": "FmfTSG6Rur1k"
      }
    },
    {
      "cell_type": "markdown",
      "source": [
        "### 3. 배치 정규화(Batch Normalization)\n",
        "ReLU 계열의 함수와 He 초기화를 사용하는 것만으로도 어느 정도 기울기 소실과 폭주를 완화시킬 수 있지만, 이 두 방법을 사용하더라도 훈련 중에 언제든 다시 발생할 수 있습니다. 기울기 소실이나 폭주를 예방하는 또 다른 방법은 배치 정규화(Batch Normalization)입니다. 배치 정규화는 인공 신경망의 각 층에 들어가는 입력을 평균과 분산으로 정규화하여 학습을 효율적으로 만듭니다.\n",
        "\n",
        "\n",
        "\n",
        "#### 1. 내부 공변량 변화(Internal Covariate Shift)\n",
        "배치 정규화를 이해하기 위해서는 내부 공변량 변화(Internal Covariate Shift)를 이해할 필요가 있습니다. 내부 공변량 변화란 학습 과정에서 층 별로 입력 데이터 분포가 달라지는 현상을 말합니다. 이전 층들의 학습에 의해 이전 층의 가중치 값이 바뀌게 되면, 현재 층에 전달되는 입력 데이터의 분포가 현재 층이 학습했던 시점의 분포와 차이가 발생합니다. 배치 정규화를 제안한 논문에서는 기울기 소실/폭주 등의 딥 러닝 모델의 불안전성이 층마다 입력의 분포가 달라지기 때문이라고 주장합니다.\n",
        "\n",
        "\n",
        "#### 2. 배치 정규화(Batch Normalization)\n",
        "배치 정규화(Batch Normalization)는 표현 그대로 한 번에 들어오는 배치 단위로 정규화하는 것을 말합니다. 배치 정규화는 각 층에서 활성화 함수를 통과하기 전에 수행됩니다. 배치 정규화를 요약하면 다음과 같습니다. 입력에 대해 평균을 0으로 만들고, 정규화를 합니다. 그리고 정규화 된 데이터에 대해서 스케일과 시프트를 수행합니다. 이 때 두 개의 매개변수 γ와 β를 사용하는데, γ는 스케일을 위해 사용하고, β는 시프트를 하는 것에 사용하며 다음 레이어에 일정한 범위의 값들만 전달되게 합니다."
      ],
      "metadata": {
        "id": "CSWVCbA6uuBe"
      }
    }
  ]
}