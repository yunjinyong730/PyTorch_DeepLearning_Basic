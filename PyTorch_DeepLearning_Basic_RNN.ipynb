{
  "nbformat": 4,
  "nbformat_minor": 0,
  "metadata": {
    "colab": {
      "provenance": []
    },
    "kernelspec": {
      "name": "python3",
      "display_name": "Python 3"
    },
    "language_info": {
      "name": "python"
    }
  },
  "cells": [
    {
      "cell_type": "markdown",
      "source": [
        "# Pytorch로 시작하는 딥러닝 입문 : RNN\n",
        "이번 챕터에서는 RNN(순환 신경망)에 대해서 이해하고, RNN의 장기 의존성 문제를 보완한 LSTM, 그리고 RNN과 LSTM을 이용하여 각종 딥러닝 실습을 진행해보겠습니다.\n",
        "\n",
        "\n",
        "\n",
        "RNN(Recurrent Neural Network)은 시퀀스(Sequence) 모델입니다. 입력과 출력을 시퀀스 단위로 처리하는 모델입니다. 번역기를 생각해보면 입력은 번역하고자 하는 문장. 즉, 단어 시퀀스입니다. 출력에 해당되는 번역된 문장 또한 단어 시퀀스입니다. 이러한 시퀀스들을 처리하기 위해 고안된 모델들을 시퀀스 모델이라고 합니다. 그 중에서도 RNN은 딥 러닝에 있어 가장 기본적인 시퀀스 모델입니다."
      ],
      "metadata": {
        "id": "cuBmpbMNzW8I"
      }
    },
    {
      "cell_type": "markdown",
      "source": [
        "# 1. 순환 신경망(Recurrent Neural Network, RNN)\n",
        "앞서 배운 신경망들은 전부 은닉층에서 활성화 함수를 지난 값은 오직 출력층 방향으로만 향했습니다. 이와 같은 신경망들을 피드 포워드 신경망(Feed Forward Neural Network)이라고 합니다. 그런데 그렇지 않은 신경망들이 있습니다. RNN(Recurrent Neural Network) 또한 그 중 하나입니다. RNN은 은닉층의 노드에서 활성화 함수를 통해 나온 결과값을 출력층 방향으로도 보내면서, 다시 은닉층 노드의 다음 계산의 입력으로 보내는 특징을 갖고있습니다.\n",
        "\n",
        "![rnn_image1_ver2.png](data:image/png;base64,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)"
      ],
      "metadata": {
        "id": "lGUjQhaH013j"
      }
    },
    {
      "cell_type": "markdown",
      "source": [
        "\n",
        "x는 입력층의 입력 벡터,\n",
        "y는 출력층의 출력 벡터입니다. 실제로는 편향\n",
        "b도 입력으로 존재할 수 있지만 앞으로의 그림에서는 생략합니다. RNN에서 은닉층에서 활성화 함수를 통해 결과를 내보내는 역할을 하는 노드를 셀(cell)이라고 합니다. 이 셀은 이전의 값을 기억하려고 하는 일종의 메모리 역할을 수행하므로 이를 메모리 셀 또는 RNN 셀이라고 표현합니다."
      ],
      "metadata": {
        "id": "ZK51Mi9-1vBx"
      }
    },
    {
      "cell_type": "markdown",
      "source": [
        "은닉층의 메모리 셀은 각각의 시점(time step)에서 바로 이전 시점에서의 은닉층의 메모리 셀에서 나온 값을 자신의 입력으로 사용하는 재귀적 활동을 하고 있습니다. 앞으로는 현재 시점을 변수 t로 표현하겠습니다. 이는 현재 시점 t에서의 메모리 셀이 갖고있는 값은 과거의 메모리 셀들의 값에 영향을 받은 것임을 의미합니다. 그렇다면 메모리 셀이 갖고 있는 이 값은 뭐라고 부를까요?"
      ],
      "metadata": {
        "id": "1oymV6Vf12Cv"
      }
    },
    {
      "cell_type": "markdown",
      "source": [
        "메모리 셀이 출력층 방향으로 또는 다음 시점 t+1의 자신에게 보내는 값을 은닉 상태(hidden state)라고 합니다. 다시 말해 t 시점의 메모리 셀은 t-1 시점의 메모리 셀이 보낸 은닉 상태값을 t 시점의 은닉 상태 계산을 위한 입력값으로 사용합니다."
      ],
      "metadata": {
        "id": "3mdbjrh2193x"
      }
    },
    {
      "cell_type": "markdown",
      "source": [
        "이제 RNN에 대한 수식을 정의해보겠습니다.\n",
        "![rnn_image4_ver2.png](data:image/png;base64,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)"
      ],
      "metadata": {
        "id": "S1ZL86S-2AhL"
      }
    },
    {
      "cell_type": "markdown",
      "source": [
        "현재 시점 t에서의 은닉 상태값을 $$h_t$$\n",
        "라고 정의하겠습니다. 은닉층의 메모리 셀은 $$h_t$$\n",
        "를 계산하기 위해서 총 두 개의 가중치를 갖게 됩니다. 하나는 입력층에서 입력값을 위한 가중치 $$W_x$$\n",
        "이고, 하나는 이전 시점 t-1의 은닉 상태값인 $$h_{t-1}$$\n",
        "을 위한 가중치 $$W_h$$\n",
        "입니다."
      ],
      "metadata": {
        "id": "i9KW1F2d2o99"
      }
    },
    {
      "cell_type": "markdown",
      "source": [
        "이를 식으로 표현하면 다음과 같습니다.\n",
        "은닉층:\n",
        "$$h_{t} = tanh(W_{x} x_{t} + W_{h}h_{t−1} + b)$$\n",
        "출력층:\n",
        "$$y_{t} = f(W_{y}h_{t} + b)$$\n"
      ],
      "metadata": {
        "id": "40-Drag829jY"
      }
    },
    {
      "cell_type": "markdown",
      "source": [
        "이때\n",
        "를 계산하기 위한 활성화 함수로는 주로 하이퍼볼릭탄젠트 함수(tanh)가 사용되지만, ReLU로 바꿔 사용하는 시도도 있습니다.\n",
        "\n",
        "\n",
        "위의 식에서 각각의 가중치\n",
        "$$W_x$$ $$W_h$$ $$W_y$$\n",
        "의 값은 모든 시점에서 값을 동일하게 공유합니다. 만약, 은닉층이 2개 이상일 경우에는 은닉층 2개의 가중치는 서로 다릅니다.\n",
        "\n",
        "출력층에서 결과값을 계산하기 위한 활성화 함수는 상황에 따라 다를텐데, 예를 들어서 이진 분류를 해야하는 경우라면 시그모이드 함수를 사용할 수 있고 다양한 카테고리 중에서 선택해야하는 문제라면 소프트맥스 함수를 사용하게 될 것입니다.\n",
        "\n"
      ],
      "metadata": {
        "id": "RUHbN9AD3T71"
      }
    },
    {
      "cell_type": "markdown",
      "source": [
        "# 2.파이썬으로 RNN 구현하기\n",
        "직접 Numpy로 RNN층을 구현해보겠습니다.\n",
        "\n",
        "일단 실제 구현에 앞서 간단하게 pseudocode를 작성해보겠습니다."
      ],
      "metadata": {
        "id": "YXONbmwQ4OCl"
      }
    },
    {
      "cell_type": "code",
      "source": [
        "# pseudocode\n",
        "\n",
        "hidden_state_t = 0 # 초기 hidden state를 0 벡터로 초기화\n",
        "\n",
        "for input_t in input_length: # 각 시점마다 입력이 들어옴\n",
        "  output_t = tanh(input_t, hidden_state_t) # 각 시점에 대해 입력과 은닉 상태를 갖고 연산\n",
        "  hidden_state_t = output_t # 계산 결과는 현재 시점의 hidden state가 된다."
      ],
      "metadata": {
        "id": "RUKihvKE1ue-",
        "colab": {
          "base_uri": "https://localhost:8080/",
          "height": 216
        },
        "outputId": "62a1319f-d81e-4b33-c9bc-a154e1df2fc5"
      },
      "execution_count": 3,
      "outputs": [
        {
          "output_type": "error",
          "ename": "NameError",
          "evalue": "name 'input_length' is not defined",
          "traceback": [
            "\u001b[0;31m---------------------------------------------------------------------------\u001b[0m",
            "\u001b[0;31mNameError\u001b[0m                                 Traceback (most recent call last)",
            "\u001b[0;32m<ipython-input-3-0b797932196b>\u001b[0m in \u001b[0;36m<cell line: 5>\u001b[0;34m()\u001b[0m\n\u001b[1;32m      3\u001b[0m \u001b[0mhidden_state_t\u001b[0m \u001b[0;34m=\u001b[0m \u001b[0;36m0\u001b[0m \u001b[0;31m# 초기 hidden state를 0 벡터로 초기화\u001b[0m\u001b[0;34m\u001b[0m\u001b[0;34m\u001b[0m\u001b[0m\n\u001b[1;32m      4\u001b[0m \u001b[0;34m\u001b[0m\u001b[0m\n\u001b[0;32m----> 5\u001b[0;31m \u001b[0;32mfor\u001b[0m \u001b[0minput_t\u001b[0m \u001b[0;32min\u001b[0m \u001b[0minput_length\u001b[0m\u001b[0;34m:\u001b[0m \u001b[0;31m# 각 시점마다 입력이 들어옴\u001b[0m\u001b[0;34m\u001b[0m\u001b[0;34m\u001b[0m\u001b[0m\n\u001b[0m\u001b[1;32m      6\u001b[0m   \u001b[0moutput_t\u001b[0m \u001b[0;34m=\u001b[0m \u001b[0mtanh\u001b[0m\u001b[0;34m(\u001b[0m\u001b[0minput_t\u001b[0m\u001b[0;34m,\u001b[0m \u001b[0mhidden_state_t\u001b[0m\u001b[0;34m)\u001b[0m \u001b[0;31m# 각 시점에 대해 입력과 은닉 상태를 갖고 연산\u001b[0m\u001b[0;34m\u001b[0m\u001b[0;34m\u001b[0m\u001b[0m\n\u001b[1;32m      7\u001b[0m   \u001b[0mhidden_state_t\u001b[0m \u001b[0;34m=\u001b[0m \u001b[0moutput_t\u001b[0m \u001b[0;31m# 계산 결과는 현재 시점의 hidden state가 된다.\u001b[0m\u001b[0;34m\u001b[0m\u001b[0;34m\u001b[0m\u001b[0m\n",
            "\u001b[0;31mNameError\u001b[0m: name 'input_length' is not defined"
          ]
        }
      ]
    },
    {
      "cell_type": "markdown",
      "source": [
        "우선 t 시점의 은닉 상태를 hidden_state_t라는 변수로 선언하였고, 입력 데이터의 길이를 input_length로 선언하였습니다. 이 경우, 입력 데이터의 길이는 곧 총 시점의 수(timesteps)가 됩니다. 그리고 t 시점의 입력값을 input_t로 선언하였습니다. 각 메모리 셀은 각 시점마다 input_t와 hidden_sate_t(이전 상태의 은닉 상태)를 입력으로 활성화 함수인 하이퍼볼릭탄젠트 함수를 통해 현 시점의 hidden_state_t를 계산합니다."
      ],
      "metadata": {
        "id": "yMo0AnT95BmI"
      }
    },
    {
      "cell_type": "markdown",
      "source": [
        "이제 RNN 층을 실제 동작되는 코드로 구현해보겠습니다. 아래의 코드는 이해를 돕기 위해 (timesteps, input_size) 크기의 2D 텐서를 입력으로 받았다고 가정하였으나, 실제로 파이토치에서는 (batch_size, timesteps, input_size)의 크기의 3D 텐서를 입력으로 받는 것을 기억합시다."
      ],
      "metadata": {
        "id": "YnCvDYA55D6t"
      }
    },
    {
      "cell_type": "code",
      "source": [
        "import numpy as np\n",
        "\n",
        "timesteps = 10 # 시점의 수. NLP에서는 보통 문장의 길이가 된다.\n",
        "input_size = 4 # 입력의 차원. NLP에서는 보통 단어 벡터의 차원이 된다.\n",
        "hidden_size = 8 # 은닉 상태의 크기. 메모리 셀의 용량이다.\n",
        "\n",
        "inputs = np.random.random((timesteps, input_size)) # 입력에 해당되는 2D 텐서\n",
        "\n",
        "hidden_state_t = np.zeros((hidden_size,)) # 초기 은닉 상태는 0(벡터)로 초기화\n",
        "# 은닉 상태의 크기 hidden_size로 은닉 상태를 만듦."
      ],
      "metadata": {
        "id": "jya6myWpzWyC"
      },
      "execution_count": 4,
      "outputs": []
    },
    {
      "cell_type": "markdown",
      "source": [
        "우선 시점, 입력의 차원, 은닉 상태의 크기, 그리고 초기 은닉 상태를 정의했습니다. 현재 초기 은닉 상태는 0의 값을 갖는 벡터로 초기화가 된 상태입니다. 초기 은닉 상태를 출력해보겠습니다."
      ],
      "metadata": {
        "id": "_Pbbyg7SXJxi"
      }
    },
    {
      "cell_type": "code",
      "execution_count": 5,
      "metadata": {
        "id": "0jhaIZZHzRWD",
        "colab": {
          "base_uri": "https://localhost:8080/"
        },
        "outputId": "6f59267e-abb5-4ab9-b004-a2150b2b31ed"
      },
      "outputs": [
        {
          "output_type": "stream",
          "name": "stdout",
          "text": [
            "[0. 0. 0. 0. 0. 0. 0. 0.]\n"
          ]
        }
      ],
      "source": [
        "print(hidden_state_t)"
      ]
    },
    {
      "cell_type": "markdown",
      "source": [
        "은닉 상태의 크기를 8로 정의하였으므로 8의 차원을 가지는 0의 값으로 구성된 벡터가 출력됩니다. 이제 가중치와 편향을 정의합니다."
      ],
      "metadata": {
        "id": "E6yCfiiYXnyV"
      }
    },
    {
      "cell_type": "code",
      "source": [
        "Wx = np.random.random((hidden_size, input_size))  # (8, 4)크기의 2D 텐서 생성. 입력에 대한 가중치.\n",
        "Wh = np.random.random((hidden_size, hidden_size)) # (8, 8)크기의 2D 텐서 생성. 은닉 상태에 대한 가중치.\n",
        "b = np.random.random((hidden_size,)) # (8,)크기의 1D 텐서 생성. 이 값은 편향(bias)."
      ],
      "metadata": {
        "id": "qgZVR_zxXqbn"
      },
      "execution_count": 6,
      "outputs": []
    },
    {
      "cell_type": "code",
      "source": [
        "print(np.shape(Wx))\n",
        "print(np.shape(Wh))\n",
        "print(np.shape(b))"
      ],
      "metadata": {
        "colab": {
          "base_uri": "https://localhost:8080/"
        },
        "id": "GocFIBpoXv4t",
        "outputId": "a4e2a01b-1c81-4356-def8-8f6707df57f8"
      },
      "execution_count": 7,
      "outputs": [
        {
          "output_type": "stream",
          "name": "stdout",
          "text": [
            "(8, 4)\n",
            "(8, 8)\n",
            "(8,)\n"
          ]
        }
      ]
    },
    {
      "cell_type": "markdown",
      "source": [
        "각 가중치와 편향의 크기는 다음과 같습니다. Wx는 (은닉 상태의 크기 × 입력의 차원),\n",
        "\n",
        "Wh는 (은닉 상태의 크기 × 은닉 상태의 크기),\n",
        "\n",
        "b는 (은닉 상태의 크기)의 크기를 가집니다.\n",
        "\n",
        "이제 모든 시점의 은닉 상태를 출력한다고 가정하고, RNN 층을 동작시켜봅시다.\n",
        "\n"
      ],
      "metadata": {
        "id": "KC28240AX5Ag"
      }
    },
    {
      "cell_type": "code",
      "source": [
        "total_hidden_states = []\n",
        "\n",
        "# 메모리 셀 동작\n",
        "for input_t in inputs: # 각 시점에 따라서 입력값이 입력됨.\n",
        "  output_t = np.tanh(np.dot(Wx,input_t) + np.dot(Wh,hidden_state_t) + b) # Wx * Xt + Wh * Ht-1 + b(bias)\n",
        "  total_hidden_states.append(list(output_t)) # 각 시점의 은닉 상태의 값을 계속해서 축적\n",
        "  print(np.shape(total_hidden_states)) # 각 시점 t별 메모리 셀의 출력의 크기는 (timestep, output_dim)\n",
        "  hidden_state_t = output_t\n",
        "\n",
        "total_hidden_states = np.stack(total_hidden_states, axis = 0)\n",
        "# 출력 시 값을 깔끔하게 해준다.\n",
        "\n",
        "print(total_hidden_states) # (timesteps, output_dim)의 크기. 이 경우 (10, 8)의 크기를 가지는 메모리 셀의 2D 텐서를 출력."
      ],
      "metadata": {
        "colab": {
          "base_uri": "https://localhost:8080/"
        },
        "id": "GyFRMSC5X9P4",
        "outputId": "e8813e56-0b64-4832-f129-d2bdc24fa22d"
      },
      "execution_count": 8,
      "outputs": [
        {
          "output_type": "stream",
          "name": "stdout",
          "text": [
            "(1, 8)\n",
            "(2, 8)\n",
            "(3, 8)\n",
            "(4, 8)\n",
            "(5, 8)\n",
            "(6, 8)\n",
            "(7, 8)\n",
            "(8, 8)\n",
            "(9, 8)\n",
            "(10, 8)\n",
            "[[0.94911927 0.70496518 0.89407199 0.73258568 0.96091277 0.87544012\n",
            "  0.89993658 0.71338312]\n",
            " [0.99943557 0.99996703 0.99994782 0.99990713 0.99983788 0.99960094\n",
            "  0.99999422 0.99994746]\n",
            " [0.99905637 0.99999076 0.99995968 0.99998602 0.99979463 0.9997602\n",
            "  0.9999988  0.99999018]\n",
            " [0.99981002 0.99999367 0.99998478 0.99998521 0.99992369 0.99987136\n",
            "  0.99999957 0.99999103]\n",
            " [0.9994915  0.99999042 0.99996104 0.99997052 0.99979712 0.99956596\n",
            "  0.9999991  0.99997855]\n",
            " [0.99989671 0.99999621 0.99998057 0.99999348 0.99995181 0.99989845\n",
            "  0.99999983 0.99999587]\n",
            " [0.99979163 0.99999622 0.99997836 0.9999945  0.99994523 0.99987557\n",
            "  0.99999979 0.99999637]\n",
            " [0.99966351 0.99999392 0.99997995 0.99998746 0.99991054 0.99982168\n",
            "  0.99999952 0.99999185]\n",
            " [0.99987156 0.99999676 0.99998894 0.99999462 0.99996726 0.99991722\n",
            "  0.99999984 0.99999679]\n",
            " [0.9997207  0.99999517 0.99997794 0.99999336 0.99992818 0.99988441\n",
            "  0.99999966 0.99999572]]\n"
          ]
        }
      ]
    },
    {
      "cell_type": "markdown",
      "source": [
        "# 3. 파이토치의 nn.RNN()\n",
        "\n",
        "파이토치에서는 nn.RNN()을 통해서 RNN 셀을 구현합니다. 실습을 통해 이해해봅시다. 우선 필요한 파이토치의 도구들을 임포트합니다."
      ],
      "metadata": {
        "id": "Gs-sNjcFYjzO"
      }
    },
    {
      "cell_type": "code",
      "source": [
        "import torch\n",
        "import torch.nn as nn"
      ],
      "metadata": {
        "id": "s6iwv3HWYnx-"
      },
      "execution_count": 9,
      "outputs": []
    },
    {
      "cell_type": "markdown",
      "source": [
        "이제 입력의 크기와 hidden state의 크기를 정의합니다.\n",
        "hidden state의 크기는 대표적인 RNN의 하이퍼파라미터입니다.\n",
        "여기서 입력의 크기는 매 시점마다 들어가는 입력의 크기를 의미합니다."
      ],
      "metadata": {
        "id": "-l2n0yzWY8On"
      }
    },
    {
      "cell_type": "code",
      "source": [
        "input_size = 5 # 입력의 크기\n",
        "hidden_size = 8 # 은닉 상태의 크기"
      ],
      "metadata": {
        "id": "mWvGyLm7ZIS2"
      },
      "execution_count": 10,
      "outputs": []
    },
    {
      "cell_type": "markdown",
      "source": [
        "입력 텐서를 정의합니다.\n",
        "입력 텐서는 (배치 크기 × 시점의 수 × 매 시점마다 들어가는 입력)의 크기를 가집니다. 여기서는 배치 크기는 1, 10번의 시점동안 5차원의 입력 벡터가 들어가도록 텐서를 정의합니다."
      ],
      "metadata": {
        "id": "T84yT08TZPTr"
      }
    },
    {
      "cell_type": "code",
      "source": [
        "# (batch_size, time_steps, input_size)\n",
        "inputs = torch.Tensor(1, 10, 5)"
      ],
      "metadata": {
        "id": "2z64hySZZb_r"
      },
      "execution_count": 11,
      "outputs": []
    },
    {
      "cell_type": "markdown",
      "source": [
        "이제 nn.RNN()을 사용해서 RNN 셀을 만듭니다.\n",
        "\n",
        "인자로 입력의 크기, hidden state의 크기를 정의해주고,\n",
        "\n",
        "batch_first = True를 통해\n",
        "\n",
        "입력 텐서의 첫번째 차원이 배치 크기임을 알려줍시다."
      ],
      "metadata": {
        "id": "T2Lh0R-MZvsW"
      }
    },
    {
      "cell_type": "code",
      "source": [
        "cell = nn.RNN(input_size, hidden_size, batch_first=True)"
      ],
      "metadata": {
        "id": "aLO0W2W4aiG4"
      },
      "execution_count": 12,
      "outputs": []
    },
    {
      "cell_type": "markdown",
      "source": [
        "입력 텐서를 RNN 셀에 입력하여 출력을 확인해봅시다."
      ],
      "metadata": {
        "id": "DaGLCE5Aancy"
      }
    },
    {
      "cell_type": "code",
      "source": [
        "outputs, _status = cell(inputs)"
      ],
      "metadata": {
        "id": "mik_EIe6aytd"
      },
      "execution_count": 13,
      "outputs": []
    },
    {
      "cell_type": "markdown",
      "source": [
        "RNN 셀은 두 개의 입력을 리턴하는데,\n",
        "\n",
        "첫 번째 리턴값은 모든 시점의 은닉 상태들이며,\n",
        "\n",
        "두 번째 리턴값은 마지막 시점의 은닉 상태입니다.\n",
        "\n",
        "우선 첫번째 리턴값에 대해 크기를 확인해봅시다."
      ],
      "metadata": {
        "id": "r4QDRAXia182"
      }
    },
    {
      "cell_type": "code",
      "source": [
        "print(outputs.shape) # 모든 시점의 은닉 상태"
      ],
      "metadata": {
        "colab": {
          "base_uri": "https://localhost:8080/"
        },
        "id": "g04y3nC0bGO6",
        "outputId": "d724bb21-c498-4bd4-c599-1336a016326f"
      },
      "execution_count": 14,
      "outputs": [
        {
          "output_type": "stream",
          "name": "stdout",
          "text": [
            "torch.Size([1, 10, 8])\n"
          ]
        }
      ]
    },
    {
      "cell_type": "markdown",
      "source": [
        "첫번째 리턴값의 은닉 상태들은 (1, 10, 8)의 크기를 가집니다.\n",
        "\n",
        "이는 10번의 시점동안 8차원의 은닉상태가 출력되었다는 의미입니다.\n",
        "\n",
        "두번째 리턴값.\n",
        "\n",
        "다시 말해 마지막 시점의 은닉 상태의 크기를 확인해보겠습니다."
      ],
      "metadata": {
        "id": "T4Fwb9GAbMwZ"
      }
    },
    {
      "cell_type": "code",
      "source": [
        "print(_status.shape) # 최종 시점의 은닉 상태"
      ],
      "metadata": {
        "colab": {
          "base_uri": "https://localhost:8080/"
        },
        "id": "staXSlmcbXuc",
        "outputId": "fa5de66a-8f00-4b04-9499-dc26a3342ec2"
      },
      "execution_count": 15,
      "outputs": [
        {
          "output_type": "stream",
          "name": "stdout",
          "text": [
            "torch.Size([1, 1, 8])\n"
          ]
        }
      ]
    },
    {
      "cell_type": "markdown",
      "source": [
        "마지막 시점의 은닉 상태는 (1,1,8)의 크기를 가집니다."
      ],
      "metadata": {
        "id": "UszSTAvGbfae"
      }
    },
    {
      "cell_type": "markdown",
      "source": [
        "# 4. 깊은 순환 신경망 (Deep Recurrent Neural Network)\n",
        "\n",
        "앞서 RNN도 다수의 은닉층을 가질 수 있다고 언급한 바 있습니다.\n",
        "예를 들어 은닉층이 1개 더 추가되어 은닉층이 2개인 깊은 순환 신경망을 이룰 수 있습니다.\n",
        "\n",
        "이런 경우 첫번째 은닉층은 다음 은닉층에 모든 시점에 대해 은닉 상태 값을 다음 은닉층으로 보내주고 있습니다.\n",
        "\n",
        "깊은 순환 신경망을 파이토치로 구현할 때는 nn.RNN()의 인자인 num_layers에 값을 전달하여 층을 쌓습니다.\n",
        "\n",
        "층이 2개인 깊은 순환 신경망의 경우, 앞서 실습했던 임의의\n",
        "입력에 대해 출력이 어떻게 달라지는지 확인해봅시다."
      ],
      "metadata": {
        "id": "L3bKabUjbmva"
      }
    },
    {
      "cell_type": "code",
      "source": [
        "# (batch_size, time_steps, input_size)\n",
        "\n",
        "inputs = torch.Tensor(1, 10, 5)"
      ],
      "metadata": {
        "id": "uIY2cBTTcPMP"
      },
      "execution_count": 16,
      "outputs": []
    },
    {
      "cell_type": "code",
      "source": [
        "cell = nn.RNN(input_size = 5, hidden_size = 8, num_layers = 2, batch_first=True)"
      ],
      "metadata": {
        "id": "FpMoA3uxca55"
      },
      "execution_count": 17,
      "outputs": []
    },
    {
      "cell_type": "code",
      "source": [
        "outputs, _status = cell(inputs)"
      ],
      "metadata": {
        "id": "dC9xTbGHc0DH"
      },
      "execution_count": 19,
      "outputs": []
    },
    {
      "cell_type": "code",
      "source": [
        "print(outputs.shape)"
      ],
      "metadata": {
        "colab": {
          "base_uri": "https://localhost:8080/"
        },
        "id": "VqwVsiHNcip0",
        "outputId": "282f1b91-6591-43a0-e51c-91d6fdb0a88c"
      },
      "execution_count": 20,
      "outputs": [
        {
          "output_type": "stream",
          "name": "stdout",
          "text": [
            "torch.Size([1, 10, 8])\n"
          ]
        }
      ]
    },
    {
      "cell_type": "markdown",
      "source": [
        "첫번째 리턴값의 크기는 층이 1개였던 RNN 셀 때와 달라지지 않았습니다.\n",
        "\n",
        "여기서는 마지막 층의 모든 시점이 은닉 상태들입니다."
      ],
      "metadata": {
        "id": "naTk0ccHc6Uz"
      }
    },
    {
      "cell_type": "code",
      "source": [
        "print(_status.shape) # (층의 개수, 배치 크기, 은닉 상태의 크기)"
      ],
      "metadata": {
        "colab": {
          "base_uri": "https://localhost:8080/"
        },
        "id": "Bgrm_Ddlc5s-",
        "outputId": "214ebdd6-6d94-476e-f6dc-1b4ccec1ea8a"
      },
      "execution_count": 21,
      "outputs": [
        {
          "output_type": "stream",
          "name": "stdout",
          "text": [
            "torch.Size([2, 1, 8])\n"
          ]
        }
      ]
    },
    {
      "cell_type": "markdown",
      "source": [
        "두 번째 리턴값의 크기는 층이 1개였던 RNN 셀 때와 달라졌는데, 여기서 크기는 (층의 개수, 배치 크기, 은닉 상태의 크기)에 해당됩니다."
      ],
      "metadata": {
        "id": "R6OT0QKxdIh_"
      }
    },
    {
      "cell_type": "markdown",
      "source": [
        "# 5. 양방향 순환 신경망(Bidirectional Recurrent Neural Network)\n",
        "\n",
        "\n",
        "양방향 순환 신경망은 시점 t에서의 출력값을 예측할 때 이전 시점의 데이터뿐만 아니라, 이후 데이터로도 예측할 수 있다는 아이디어에 기반합니다.\n",
        "\n",
        "영어 빈칸 채우기 문제에 비유하여 보겠습니다."
      ],
      "metadata": {
        "id": "e0ScOsrSdY-W"
      }
    },
    {
      "cell_type": "markdown",
      "source": [
        "영어 빈칸 채우기 문제에 비유하여 보겠습니다.\n",
        "\n",
        "\n",
        "\n",
        "Exercise is very effective at [          ] belly fat.\n",
        "\n",
        "1) reducing\n",
        "2) increasing\n",
        "3) multiplying\n",
        "\n",
        "\n",
        "'운동은 복부 지방을 [ ] 효과적이다'라는 영어 문장이고,\n",
        "\n",
        "정답은 reducing(줄이는 것)입니다.\n",
        "\n",
        "그런데 위의 영어 빈 칸 채우기 문제를 잘 생각해보면 정답을 찾기 위해서는 이전에 나온 단어들만으로는 부족합니다. 목적어인 belly fat(복부 지방)를 모르는 상태라면 정답을 결정하기가 어렵습니다.\n",
        "\n",
        "즉, RNN이 과거 시점(time step)의 데이터들을 참고해서, 찾고자하는 정답을 예측하지만\n",
        "\n",
        "실제 문제에서는 과거 시점의 데이터만 고려하는 것이 아니라 향후 시점의 데이터에 힌트가 있는 경우도 많습니다.\n",
        "\n",
        "그래서 이전 시점의 데이터뿐만 아니라, 이후 시점의 데이터도 힌트로 활용하기 위해서 고안된 것이 양방향 RNN입니다."
      ],
      "metadata": {
        "id": "MtB235JtdwTY"
      }
    },
    {
      "cell_type": "markdown",
      "source": [
        "![rnn_image5_ver2.png](data:image/png;base64,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)"
      ],
      "metadata": {
        "id": "Ca-g2VyZd7CH"
      }
    },
    {
      "cell_type": "markdown",
      "source": [
        "양방향 RNN은 하나의 출력값을 예측하기 위해 기본적으로 두 개의 메모리 셀을 사용합니다.\n",
        "\n",
        "첫번째 메모리 셀은 앞에서 배운 것처럼 앞 시점의 은닉 상태(Forward States)를 전달받아 현재의 은닉 상태를 계산합니다.\n",
        "\n",
        "위의 그림에서는 주황색 메모리 셀에 해당됩니다.\n",
        "\n",
        "두번째 메모리 셀은 앞에서 배운 것과는 다릅니다.\n",
        "\n",
        "앞 시점의 은닉 상태가 아니라 뒤 시점의 은닉 상태(Backward States)를 전달 받아 현재의 은닉 상태를 계산합니다.\n",
        "\n",
        "\n",
        "위의 그림에서는 초록색 메모리 셀에 해당됩니다. 그리고 이 두 개의 값 모두가 출력층에서 출력값을 예측하기 위해 사용됩니다."
      ],
      "metadata": {
        "id": "m6XF85hxeXoh"
      }
    },
    {
      "cell_type": "markdown",
      "source": [
        "양방향 순환 신경망을 파이토치로 구현할 때는 nn.RNN()의 인자인 bidirectional에 값을 True로 전달하면 됩니다.\n",
        "\n",
        " 이번에는 층이 2개인 깊은 순환 신경망이면서 양방향인 경우, 앞서 실습했던 임의의 입력에 대해서 출력이 어떻게 달라지는지 확인해봅시다."
      ],
      "metadata": {
        "id": "4QrcyJsGehRk"
      }
    },
    {
      "cell_type": "code",
      "source": [
        "# (batch_size, time_steps, input_size)\n",
        "inputs = torch.Tensor(1, 10, 5)"
      ],
      "metadata": {
        "id": "tSP2D8eJemNQ"
      },
      "execution_count": 22,
      "outputs": []
    },
    {
      "cell_type": "code",
      "source": [
        "cell = nn.RNN(input_size = 5, hidden_size = 8, num_layers = 2, batch_first=True, bidirectional = True)"
      ],
      "metadata": {
        "id": "j2d8OwLFeqzE"
      },
      "execution_count": 23,
      "outputs": []
    },
    {
      "cell_type": "code",
      "source": [
        "outputs, _status = cell(inputs)"
      ],
      "metadata": {
        "id": "jt5pz4uae2Jk"
      },
      "execution_count": 24,
      "outputs": []
    },
    {
      "cell_type": "code",
      "source": [
        "print(outputs.shape) #(배치 크기, 시퀀스 길이, 은닉 상태의 크기 x 2)"
      ],
      "metadata": {
        "colab": {
          "base_uri": "https://localhost:8080/"
        },
        "id": "DUFAkqOXe5P0",
        "outputId": "490a299a-7d47-4e56-e778-d458d0a20be2"
      },
      "execution_count": 25,
      "outputs": [
        {
          "output_type": "stream",
          "name": "stdout",
          "text": [
            "torch.Size([1, 10, 16])\n"
          ]
        }
      ]
    },
    {
      "cell_type": "markdown",
      "source": [
        "첫번째 리턴값의 크기는 단방향 RNN 셀 때보다 은닉 상태의 크기의 값이 두 배가 되었습니다.\n",
        "\n",
        "여기서는 (배치 크기, 시퀀스 길이, 은닉 상태의 크기 x 2)의 크기를 가집니다.\n",
        "\n",
        "이는 양방향의 은닉 상태 값들이 연결(concatenate)되었기 때문입니다.\n",
        "\n"
      ],
      "metadata": {
        "id": "ZXkxu20TfEpm"
      }
    },
    {
      "cell_type": "code",
      "source": [
        "print(_status.shape) # (층의 개수 x 2, 배치 크기, 은닉 상태의 크기)"
      ],
      "metadata": {
        "colab": {
          "base_uri": "https://localhost:8080/"
        },
        "id": "03UPrjkAfTth",
        "outputId": "51b26072-a209-4d44-8230-c5b2eec4d343"
      },
      "execution_count": 26,
      "outputs": [
        {
          "output_type": "stream",
          "name": "stdout",
          "text": [
            "torch.Size([4, 1, 8])\n"
          ]
        }
      ]
    },
    {
      "cell_type": "code",
      "source": [
        "torch.Size([4, 1, 8])"
      ],
      "metadata": {
        "colab": {
          "base_uri": "https://localhost:8080/"
        },
        "id": "_OOldCbJfe3P",
        "outputId": "4194f825-8287-4b3a-8733-a885c8bc3208"
      },
      "execution_count": 27,
      "outputs": [
        {
          "output_type": "execute_result",
          "data": {
            "text/plain": [
              "torch.Size([4, 1, 8])"
            ]
          },
          "metadata": {},
          "execution_count": 27
        }
      ]
    },
    {
      "cell_type": "markdown",
      "source": [
        "두 번째 리턴값의 크기는 (층의 개수x2, 배치 크기, 은닉 상태의 크기)를 가집니다. 이는 정방향 기준으로는 마지막 시점에 해당하면서, 역방향 기준에서는 첫번째 시점에 해당되는 시점의 출력값을 층의 개수만큼 쌓아 올린 결과값입니다."
      ],
      "metadata": {
        "id": "S5PmfjmCfktp"
      }
    },
    {
      "cell_type": "markdown",
      "source": [
        "# LSTM (Long Short-Term Memory)\n",
        "\n",
        "바닐라 RNN 이후 바닐라 RNN의 한계를 극복하기 위한 다양한 RNN의 변형이 나왔습니다.\n",
        "\n",
        "이번 챕터에서 배우게 될 LSTM도 그 중 하나입니다. 앞으로의 설명에서 LSTM과 비교하여 RNN을 언급하는 것은 전부 바닐라 RNN을 말합니다.\n",
        "\n",
        "## 1. Vanilla RNN의 한계\n",
        "\n",
        "앞에서 바닐라 RNN은 출력 결과가 이전의 계산 결과에 의존한다는 것을 언급한 바 있습니다.\n",
        "\n",
        "하지만 바닐라 RNN은 비교적 짧은 시퀀스에 대해서만 효과를 보인다는 단점이 있습니다.\n",
        "\n",
        "바닐라 RNN의 시점(timestep)이 길어질수록 앞의 정보가 뒤로 충분히 전달되지 못하는 현상이 발생합니다.\n",
        "\n",
        "어쩌면 가장 중요한 정보가 시점의 앞 쪽에 위치할 수도 있습니다.\n",
        "\n",
        "이를 장기 의존성 문제(Long-Term Dependency)라고 합니다."
      ],
      "metadata": {
        "id": "8ngdWrRmf3N4"
      }
    },
    {
      "cell_type": "markdown",
      "source": [
        "## 2. LSTM(Long Short-Term Memory)\n",
        "\n",
        "![vaniila_rnn_and_different_lstm_ver2.png](data:image/png;base64,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)"
      ],
      "metadata": {
        "id": "vXb2X8dEiGTY"
      }
    },
    {
      "cell_type": "markdown",
      "source": [
        "위의 그림은 LSTM의 전체적인 내부의 모습을 보여줍니다.\n",
        "LSTM은 은닉층의 메모리 셀에 입력 게이트, 망각 게이트, 출력 게이트를 추가해서 불필요한 기억을 지우고, 기억해야 할 것들을 정합니다.\n",
        "\n",
        "요약하면 LSTM은 은닉 상태(hidden state)를 계산하는 식이 전통적인 RNN보다 조금 더 복잡해졌으며 셀 상태(cell state)라는 값을 추가했습니다.\n",
        "\n",
        "위의 그림에서는 t기점의 셀 상태를 $$C_t$$ 로 표현하고 있습니다.\n",
        "\n"
      ],
      "metadata": {
        "id": "KR2W98hrisKD"
      }
    },
    {
      "cell_type": "markdown",
      "source": [
        "![cellstate.png](data:image/png;base64,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)"
      ],
      "metadata": {
        "id": "nh9j4VwkjZ9A"
      }
    },
    {
      "cell_type": "markdown",
      "source": [
        "셀 상태는 위의 그림에서 왼쪽에서 오른쪽으로 가는 굵은 선입니다.\n",
        "\n",
        "셀 상태 또한 이전에 배운 은닉 상태처럼 이전 시점의 셀 상태가 다음 시점의 셀 상태를 구하기 위한 입력으로서 사용됩니다.\n",
        "\n",
        "은닉 상태값과 셀 상태값을 구하기 위해서 새로 추가 된 3개의 게이트를 사용합니다.\n",
        "\n",
        "각 게이트는 삭제 게이트, 입력 게이트, 출력 게이트라고 부르며\n",
        "\n",
        "이 3개의 게이트에는 공통적으로 시그모이드 함수가 존재합니다.\n",
        "\n",
        "시그모이드 함수를 지나면 0과 1사이의 값이 나오게 되는데 이 값들을 갖고 게이트를 조절합니다.\n",
        "\n",
        "아래의 내용을 먼저 이해하고 각 게이트에 대해 알아보도록 하겠습니다.\n",
        "\n",
        "- 이하 식에서 σ는 시그모이드 함수를 의미합니다\n",
        "- 이하 식에서 tanh는 하이퍼볼릭탄젠트 함수를 의미합니다\n",
        "- $$W_{xi}, W_{xg}, W_{xf}, W_{xo}$$ 는 $$x_t$$와 함께 각 게이트에서 사용되는 4개의 가중치입니다.\n",
        "- $$W_{hi}, W_{hg}, W_{hf}, W_{ho}$$는 $$h_{t-1}$$와 함께 각 게이트에서 사용되는 4개의 가중치입니다.\n",
        "- $$b_{i}, b_{g}, b_{f}, b_{o}$$는 각 게이트에서 사용되는 4개의 편향입니다."
      ],
      "metadata": {
        "id": "tc1hdXXijduw"
      }
    },
    {
      "cell_type": "markdown",
      "source": [
        "## 입력 게이트\n",
        "\n",
        "![inputgate.png](data:image/png;base64,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)"
      ],
      "metadata": {
        "id": "CcpYTjqSmIld"
      }
    },
    {
      "cell_type": "markdown",
      "source": [
        "$$i_{t}=σ(W_{xi}x_{t}+W_{hi}h_{t-1}+b_{i})$$"
      ],
      "metadata": {
        "id": "Cj0P-JY5p_QD"
      }
    },
    {
      "cell_type": "markdown",
      "source": [
        "$$g_{t}=tanh(W_{xg}x_{t}+W_{hg}h_{t-1}+b_{g})$$"
      ],
      "metadata": {
        "id": "qYyduLdNqCTi"
      }
    },
    {
      "cell_type": "markdown",
      "source": [
        "입력 게이트는 현재 정보를 기억하기 위한 게이트입니다.\n",
        "우선 현재 시점 t의 x값과 입력 게이트로 이어지는 가중치\n",
        "$$W_{xi}$$를 곱한 값과 이전 시점 t-1의 은닉 상태가 입력 게이트로 이어지는 가중치 $$W_{hi}$$를 곱한 값을 더하여 시그모이드 함수를 지납니다.\n",
        "이를 $$i_t$$라고 합니다.\n",
        "\n",
        "그리고 현재 시점 t의 x값과 입력 게이트로 이어지는 가중치\n",
        "$$W_{xg}$$를 곱한 값과 이전 시점 t-1의 은닉 상태가 입력 게이트로 이어지는 가중치 $$W_{hg}$$룰 곱한 값을 더하여 하이퍼볼릭 탄젠트 함수를 지납니다.\n",
        "이를 $$g_t$$라고 합니다.\n",
        "\n",
        "시그모이드 함수를 지나 0과 1 사이의 값과 하이퍼볼릭탄젠트 함수를 지나 01과 1사이의 값 두개가 나오게 됩니다.\n",
        "이 두 개의 값을 갖고 이번에 선택된 기억할 정보의 양을 정하는데\n",
        "구체적으로 어떻게 결정하는지는 아래에서 배우게 될 셀 상태 수식을 보면 됩니다.\n",
        "\n"
      ],
      "metadata": {
        "id": "X32aVpFOqEzA"
      }
    },
    {
      "cell_type": "markdown",
      "source": [
        "## 삭제 게이트\n",
        "![forgetgate.png](data:image/png;base64,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)"
      ],
      "metadata": {
        "id": "KVuvbd6tr_fi"
      }
    },
    {
      "cell_type": "markdown",
      "source": [
        "$$f_{t}=σ(W_{xf}x_{t}+W_{hf}h_{t-1}+b_{f})$$"
      ],
      "metadata": {
        "id": "CBCp2uv1sKct"
      }
    },
    {
      "cell_type": "markdown",
      "source": [
        "삭제 게이트는 기억을 삭제하기 위한 게이트입니다.\n",
        "현재 시점 t의 x값과 이전 시점 t-1의 은닉 상태가 시그모이드 함수를 지나게 됩니다.\n",
        "시그모이드 함수를 지나면 0과 1 사이의 값이 나오게 되는데,\n",
        "이 값이 곧 삭제 과정을 거친 정보의 양입니다.\n",
        "\n",
        "0에 가까울수록 정보가 많이 삭제된 것이고 1에 가까울 수록 정보를 온전히 기억한 것입니다.\n",
        "\n",
        "이를 갖고 셀 상태를 구하게 되는데, 구체적으로는 아래의 셀 상태 수식을 보면 됩니다."
      ],
      "metadata": {
        "id": "9K_FM__6sNxU"
      }
    },
    {
      "cell_type": "markdown",
      "source": [
        "## 셀 상태(장기 상태)\n",
        "\n",
        "![cellstate2.png](data:image/png;base64,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)"
      ],
      "metadata": {
        "id": "HsrXmR0csldx"
      }
    },
    {
      "cell_type": "markdown",
      "source": [
        "$$C_{t}=f_{t}∘C_{t-1}+i_{t}∘g_{t}$$"
      ],
      "metadata": {
        "id": "SG9bfTN7sqoc"
      }
    },
    {
      "cell_type": "markdown",
      "source": [
        "셀 상태 $$C_t$$를 LSTM에서는 장기 상태라고 부르기도 합니다.\n",
        "\n",
        "그렇다면 셀 상태를 구하는 방법을 알아보겠습니다.\n",
        "\n",
        "현재 삭제 게이트에서 일부 기억을 잃은 상태입니다.\n",
        "\n",
        "입력 게이트에서 구한 $$i_t, g_t$$ 이 두 개의 값에 대해서 원소별 곱(entrywise product)을 진행합니다.\n",
        "다시 말해 같은 크기의 두 행렬이 있을 때 같은 위치의 성분끼리 곱하는 것을 말합니다.\n",
        "\n",
        "그런 다음 입력 게이트에서 선택된 기억을 삭제 게이트의 결과값과 더합니다.\n",
        "\n",
        "이 값을 현재 시점 t의 셀 상태라고 하며, 이 값은 다음 t+1 시점의 LSTM셀로 넘겨집니다.\n",
        "\n",
        "삭제 게이트와 입력 게이트의 영향력을 이해해봅시다.\n",
        "\n",
        "만약 삭제 게이트의 출력값인 $$f_t$$가 0이 된다면, 이전 시점의 셀 상태값인 $$C_{t-1}$$은 현재 시점의 셀 상태값을 결정하기 위한 영향력이 0이 되면서, 오직 입력 게이트의 결과만이 현재 시점의 셀 상태값 $$C_t$$을 결정할 수 있습니다.\n",
        "\n",
        "이는 삭제 게이트가 완전히 닫히고 입력 게이트를 연 상태를 의미합니다.\n",
        "\n",
        "반대로 입력 게이트의 $$i_t$$ 값을 0이라고 한다면, 현재 시점의 셀 상태값 $$C_t$$은 오직 이전 시점의 셀 상태값 $$C_{t-1}$$의 값에만 의존합니다.\n",
        "이는 입력 게이트를 완전히 닫고 삭제 게이트만을 연 상태를 의미합니다.\n",
        "결과적으로 삭제 게이트는 이전 시점의 입력을 얼마나 반영할지를 의미하고 입력 게이트는 현재 시점의 입력을 얼마나 반영할지를 결정합니다."
      ],
      "metadata": {
        "id": "6Zw6RWxesvr5"
      }
    },
    {
      "cell_type": "markdown",
      "source": [
        "## 출력 게이트와 은닉 상태(단기 상태)\n",
        "![outputgateandhiddenstate.png](data:image/png;base64,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)"
      ],
      "metadata": {
        "id": "4IAUJqO2uwF2"
      }
    },
    {
      "cell_type": "markdown",
      "source": [
        "$$o_{t}=σ(W_{xo}x_{t}+W_{ho}h_{t-1}+b_{o})$$\n",
        "$$h_{t}=o_{t}∘tanh(c_{t})$$"
      ],
      "metadata": {
        "id": "dMjvhTN3u6l8"
      }
    },
    {
      "cell_type": "markdown",
      "source": [
        "출력 게이트는 현재 시점 t의 x값과 이전 시점 t-1의 은닉 상태가 시그모이드 함수를 지난 값입니다.\n",
        "해당 값은 현재 시점 t의 은닉 상태를 결정하는 일에 쓰이게 됩니다.\n",
        "\n",
        "은닉 상태를 단기 상태라고 하기도 합니다.\n",
        "은닉 상태는 장기 상태의 값이 하이퍼볼릭탄젠트 함수를 지나 -1과 1사이의 값입니다.\n",
        "해당 값은 출력 게이트의 값과 연산되면서, 값이 걸러지는 효과가 발생합니다.\n",
        "단기 상태의 값은 또한 출력층으로도 향합니다."
      ],
      "metadata": {
        "id": "e9x93wN5u_Kq"
      }
    },
    {
      "cell_type": "markdown",
      "source": [
        "## 파이토치의 nn.LSTM()\n",
        "\n",
        "파이토치에서 LSTM 셀을 사용하는 방법은 매우 간단합니다.\n",
        "기존에 RNN 셀을 사용하려고 했을 때는 다음과 같이 사용했습니다."
      ],
      "metadata": {
        "id": "svFRsghHvRA4"
      }
    },
    {
      "cell_type": "code",
      "source": [
        "nn.RNN(input_dim, hidden_size, batch_first=True)"
      ],
      "metadata": {
        "id": "O2GImpIFvf7u"
      },
      "execution_count": null,
      "outputs": []
    },
    {
      "cell_type": "markdown",
      "source": [
        "LSTM 셀은 이와 유사하게 다음과 같이 사용합니다."
      ],
      "metadata": {
        "id": "6lDTfkBzvlsT"
      }
    },
    {
      "cell_type": "code",
      "source": [
        "nn.LSTM(input_dim, hidden_size, batch_fisrt=True)"
      ],
      "metadata": {
        "id": "yYO8G-Qz0TvX"
      },
      "execution_count": null,
      "outputs": []
    },
    {
      "cell_type": "markdown",
      "source": [
        "## 문자 단위 RNN(Char RNN)\n",
        "\n",
        "이번 챕터에서는 모든 시점의 입력에 대해서 모든 시점에 대해서 출력을 하는 다대다 RNN을 구현해봅시다.\n",
        "다대다 RNN은 대표적으로 품사 태깅, 개체명 인식 등에서 사용됩니다."
      ],
      "metadata": {
        "id": "81IMt-4l06A1"
      }
    },
    {
      "cell_type": "markdown",
      "source": [
        "# 문자 단위 RNN(Char RNN)\n",
        "RNN의 입출력의 단위가 단어 레벨(word-level)이 아니라 문자 레벨(character-level)로 하여 RNN을 구현한다면, 이를 문자 단위 RNN이라고 합니다.\n",
        "RNN 구조 자체가 달라진 것은 아니고, 입출력의 단위가 문자로 바뀌었을 뿐입니다. 문자 단위 RNN을 다대다 구조로 구현해봅시다."
      ],
      "metadata": {
        "id": "tqqXSMOd1I9o"
      }
    },
    {
      "cell_type": "code",
      "source": [
        "import torch\n",
        "import torch.nn as nn\n",
        "import torch.optim as optim\n",
        "import numpy as np"
      ],
      "metadata": {
        "id": "KvaMiHL81jA9"
      },
      "execution_count": 28,
      "outputs": []
    },
    {
      "cell_type": "markdown",
      "source": [
        "# 훈련 데이터 전처리하기\n",
        "\n",
        "여기서는 문자 시퀀스 apple을 입력받으면 pple!을 출력하는 RNN을 구현해볼겁니다.\n",
        "이렇게 구현하는 이유에는 어떤 의미가 있지는 않습니다.\n",
        "그저 RNN의 동작을 이해하기 위한 목적입니다.\n",
        "\n",
        "입력 데이터와 레이블 데이터에 대해서 문자 집합(vocabulary)을 만듭니다.\n",
        "여기서 문자 집합은 중복을 제거한 문자들의 집합입니다.\n"
      ],
      "metadata": {
        "id": "ljWFkEDP1o3Y"
      }
    },
    {
      "cell_type": "code",
      "source": [
        "input_str = 'apple'\n",
        "label_str = 'pple!'\n",
        "char_vocab = sorted(list(set(input_str+label_str)))\n",
        "vocab_size = len(char_vocab)\n",
        "print('문자 집합의 크기 : {}'.format(vocab_size))"
      ],
      "metadata": {
        "colab": {
          "base_uri": "https://localhost:8080/"
        },
        "id": "VJthmWni2lmV",
        "outputId": "e51770c8-601f-4716-9131-ea5557f10afa"
      },
      "execution_count": 29,
      "outputs": [
        {
          "output_type": "stream",
          "name": "stdout",
          "text": [
            "문자 집합의 크기 : 5\n"
          ]
        }
      ]
    },
    {
      "cell_type": "markdown",
      "source": [
        "현재 문자 집합에는 총 5개의 문자가 있습니다.\n",
        "!,a,e,l,p 입니다.\n",
        "\n",
        "이제 하이퍼파라미터를 정의해줍니다.\n",
        "이때 입력은 원-핫 벡터를 사용할 것이므로 입력의 크기는 문자 집합의 크기여야 합니다."
      ],
      "metadata": {
        "id": "LXMVyPBS3IwE"
      }
    },
    {
      "cell_type": "code",
      "source": [
        "input_size = vocab_size # 입력의 크기는 문자 집합의 크기\n",
        "hidden_size = 5\n",
        "output_size = 5\n",
        "learning_rate = 0.1"
      ],
      "metadata": {
        "id": "gpu62tvd3aMN"
      },
      "execution_count": 30,
      "outputs": []
    },
    {
      "cell_type": "markdown",
      "source": [
        "이제 문자 집합에 고유한 정수를 부여합니다."
      ],
      "metadata": {
        "id": "Oa8Mvq_R3iDY"
      }
    },
    {
      "cell_type": "code",
      "source": [
        "char_to_index = dict((c, i) for i, c in enumerate(char_vocab))\n",
        "print(char_to_index)"
      ],
      "metadata": {
        "colab": {
          "base_uri": "https://localhost:8080/"
        },
        "id": "EzpYvGHl3lDT",
        "outputId": "ba38c788-9ab7-4155-b9e5-a35009d49823"
      },
      "execution_count": 31,
      "outputs": [
        {
          "output_type": "stream",
          "name": "stdout",
          "text": [
            "{'!': 0, 'a': 1, 'e': 2, 'l': 3, 'p': 4}\n"
          ]
        }
      ]
    },
    {
      "cell_type": "markdown",
      "source": [
        "!은 0\n",
        "\n",
        "a는 1\n",
        "\n",
        "e는 2\n",
        "\n",
        "l은 3\n",
        "\n",
        "p는 4\n",
        "\n",
        "가 부여됐습니다.\n",
        "\n",
        "나중에 예측 결과를 다시 문자 시퀀스로 보기 위해서\n",
        "반대로 정수로부터 문자를 얻을 수 있는 index_to_char을 만듭니다."
      ],
      "metadata": {
        "id": "qZavHbxZ4LKt"
      }
    },
    {
      "cell_type": "code",
      "source": [
        "index_to_char={}\n",
        "for key, value in char_to_index.items():\n",
        "    index_to_char[value] = key\n",
        "print(index_to_char)"
      ],
      "metadata": {
        "colab": {
          "base_uri": "https://localhost:8080/"
        },
        "id": "kldt_UWN4Zg6",
        "outputId": "da591a8d-7390-4918-db63-7e1edeb8c452"
      },
      "execution_count": 32,
      "outputs": [
        {
          "output_type": "stream",
          "name": "stdout",
          "text": [
            "{0: '!', 1: 'a', 2: 'e', 3: 'l', 4: 'p'}\n"
          ]
        }
      ]
    },
    {
      "cell_type": "markdown",
      "source": [
        "이제 입력 데이터와 레이블 데이터의 각 문자들을 정수로 매핑합니다."
      ],
      "metadata": {
        "id": "yZ7DMbem4k5X"
      }
    },
    {
      "cell_type": "code",
      "source": [
        "x_data = [char_to_index[c] for c in input_str]\n",
        "y_data = [char_to_index[c] for c in label_str]\n",
        "print(x_data)\n",
        "print(y_data)"
      ],
      "metadata": {
        "colab": {
          "base_uri": "https://localhost:8080/"
        },
        "id": "36UXbaL7238D",
        "outputId": "e86ad62a-c056-4956-db56-dc128eaaa423"
      },
      "execution_count": 33,
      "outputs": [
        {
          "output_type": "stream",
          "name": "stdout",
          "text": [
            "[1, 4, 4, 3, 2]\n",
            "[4, 4, 3, 2, 0]\n"
          ]
        }
      ]
    },
    {
      "cell_type": "markdown",
      "source": [
        "파이토치의 nn.RNN()은 기본적으로 3차원 텐서를 입력받습니다.\n",
        "\n",
        "그렇기 때문에 배치 차원을 추가해줍니다."
      ],
      "metadata": {
        "id": "pDlMGoNC6Pov"
      }
    },
    {
      "cell_type": "code",
      "source": [
        "# 배치 차원 추가\n",
        "# 텐서 연산인 unsqueeze(0)를 통해 해결할 수도 있다.\n",
        "x_data = [x_data]\n",
        "y_data = [y_data]\n",
        "print(x_data)\n",
        "print(y_data)"
      ],
      "metadata": {
        "colab": {
          "base_uri": "https://localhost:8080/"
        },
        "id": "AQQxQHFl6VdC",
        "outputId": "dc45fbcd-5f6c-4615-84da-fdab40f82244"
      },
      "execution_count": 34,
      "outputs": [
        {
          "output_type": "stream",
          "name": "stdout",
          "text": [
            "[[1, 4, 4, 3, 2]]\n",
            "[[4, 4, 3, 2, 0]]\n"
          ]
        }
      ]
    },
    {
      "cell_type": "markdown",
      "source": [
        "입력 시퀀스의 각 문자들을 원-핫 벡터로 바꿔줍니다."
      ],
      "metadata": {
        "id": "LbmFmj5Y6lW9"
      }
    },
    {
      "cell_type": "code",
      "source": [
        "x_one_hot = [np.eye(vocab_size)[x] for x in x_data]\n",
        "print(x_one_hot)"
      ],
      "metadata": {
        "colab": {
          "base_uri": "https://localhost:8080/"
        },
        "id": "bwCaQpnQ6orq",
        "outputId": "b9309267-1d87-400b-b0d1-a2120bd16cc5"
      },
      "execution_count": 35,
      "outputs": [
        {
          "output_type": "stream",
          "name": "stdout",
          "text": [
            "[array([[0., 1., 0., 0., 0.],\n",
            "       [0., 0., 0., 0., 1.],\n",
            "       [0., 0., 0., 0., 1.],\n",
            "       [0., 0., 0., 1., 0.],\n",
            "       [0., 0., 1., 0., 0.]])]\n"
          ]
        }
      ]
    },
    {
      "cell_type": "markdown",
      "source": [
        "입력 데이터와 레이블 데이터를 텐서로 바꿔줍니다."
      ],
      "metadata": {
        "id": "O0pFWubq6y3j"
      }
    },
    {
      "cell_type": "code",
      "source": [
        "X = torch.FloatTensor(x_one_hot)\n",
        "Y = torch.LongTensor(y_data)"
      ],
      "metadata": {
        "colab": {
          "base_uri": "https://localhost:8080/"
        },
        "id": "re8ein0F6yVP",
        "outputId": "ed2892c1-379d-44b5-f1be-e5fb24fcecc6"
      },
      "execution_count": 36,
      "outputs": [
        {
          "output_type": "stream",
          "name": "stderr",
          "text": [
            "<ipython-input-36-c1bfbd518a63>:1: UserWarning: Creating a tensor from a list of numpy.ndarrays is extremely slow. Please consider converting the list to a single numpy.ndarray with numpy.array() before converting to a tensor. (Triggered internally at ../torch/csrc/utils/tensor_new.cpp:274.)\n",
            "  X = torch.FloatTensor(x_one_hot)\n"
          ]
        }
      ]
    },
    {
      "cell_type": "markdown",
      "source": [
        "이제 각 텐서의 크기를 확인해보겠습니다."
      ],
      "metadata": {
        "id": "QLub23So7BNY"
      }
    },
    {
      "cell_type": "code",
      "source": [
        "print('훈련 데이터의 크기 : {}'.format(X.shape))\n",
        "print('레이블의 크기 : {}'.format(Y.shape))"
      ],
      "metadata": {
        "colab": {
          "base_uri": "https://localhost:8080/"
        },
        "id": "bg5Q44HN7E2L",
        "outputId": "48932123-6a4a-4089-afb5-a4139d078897"
      },
      "execution_count": 37,
      "outputs": [
        {
          "output_type": "stream",
          "name": "stdout",
          "text": [
            "훈련 데이터의 크기 : torch.Size([1, 5, 5])\n",
            "레이블의 크기 : torch.Size([1, 5])\n"
          ]
        }
      ]
    },
    {
      "cell_type": "markdown",
      "source": [
        "# 모델 구현하기\n",
        "이제 RNN 모델을 구현해봅시다. 아래에서 fc는 fully connected layer를 의미하며 출력층으로 사용됩니다."
      ],
      "metadata": {
        "id": "LYu5s87o7YhT"
      }
    },
    {
      "cell_type": "code",
      "source": [
        "class Net(torch.nn.Module):\n",
        "  def __init__(self, input_size, hidden_size, output_size):\n",
        "    super(Net, self).__init__()\n",
        "    self.rnn = torch.nn.RNN(input_size, hidden_size, batch_first=True) # RNN 셀 구현\n",
        "    self.fc = torch.nn.Linear(hidden_size, output_size, bias=True) # 출력층 구현\n",
        "\n",
        "  def forward(self, x): # 구현한 RNN 셀과 출력층을 연결\n",
        "      x, _status = self.rnn(x)\n",
        "      x = self.fc(x)\n",
        "      return x"
      ],
      "metadata": {
        "id": "Xx2jAqnc7hRf"
      },
      "execution_count": 41,
      "outputs": []
    },
    {
      "cell_type": "markdown",
      "source": [
        "클래스로 정의한 모델을 net에 저장합니다."
      ],
      "metadata": {
        "id": "xtyfr33K8Hkv"
      }
    },
    {
      "cell_type": "code",
      "source": [
        "net = Net(input_size, hidden_size, output_size)"
      ],
      "metadata": {
        "id": "zmwHEIya8J2v"
      },
      "execution_count": 42,
      "outputs": []
    },
    {
      "cell_type": "markdown",
      "source": [
        "이제 입력된 모델에 입력을 넣어서 출력의 크기를 확인해봅시다."
      ],
      "metadata": {
        "id": "ZCL6ppAz8Q4B"
      }
    },
    {
      "cell_type": "code",
      "source": [
        "outputs = net(X)\n",
        "print(outputs.shape) # 3차원 텐서"
      ],
      "metadata": {
        "colab": {
          "base_uri": "https://localhost:8080/"
        },
        "id": "Ob4On4GG8VOh",
        "outputId": "bedb45c9-e99c-4870-e6cd-2466185785dd"
      },
      "execution_count": 43,
      "outputs": [
        {
          "output_type": "stream",
          "name": "stdout",
          "text": [
            "torch.Size([1, 5, 5])\n"
          ]
        }
      ]
    },
    {
      "cell_type": "markdown",
      "source": [
        "(1,5,5)의 크기를 가지는데 각각 배치 차원, 시점, 출력의 크기입니다.\n",
        "나중에 정확도를 측정할 때는 이를 모두 펼쳐서 계산하게 되는데, 이때는 view를 사용하여 배치 차원과 시점 차원을 하나로 만듭니다."
      ],
      "metadata": {
        "id": "nfh_KWw88m_g"
      }
    },
    {
      "cell_type": "code",
      "source": [
        "print(outputs.view(-1, input_size).shape) #2차원 텐서로 변환"
      ],
      "metadata": {
        "colab": {
          "base_uri": "https://localhost:8080/"
        },
        "id": "rMiBbje69AMN",
        "outputId": "75238d79-7f61-48c0-eeab-75dab0dd1441"
      },
      "execution_count": 45,
      "outputs": [
        {
          "output_type": "stream",
          "name": "stdout",
          "text": [
            "torch.Size([5, 5])\n"
          ]
        }
      ]
    },
    {
      "cell_type": "code",
      "source": [
        "torch.Size([5,5])"
      ],
      "metadata": {
        "colab": {
          "base_uri": "https://localhost:8080/"
        },
        "id": "x8TP3VrK_G-G",
        "outputId": "e912d541-1b18-42bf-9b8f-d922da2deaef"
      },
      "execution_count": 46,
      "outputs": [
        {
          "output_type": "execute_result",
          "data": {
            "text/plain": [
              "torch.Size([5, 5])"
            ]
          },
          "metadata": {},
          "execution_count": 46
        }
      ]
    },
    {
      "cell_type": "markdown",
      "source": [
        "차원이 (5,5)가 된 것을 볼 수 있습니다. 이제 레이블 데이터의 크기를 다시 복습해봅시다."
      ],
      "metadata": {
        "id": "eyq1-_VH_Ols"
      }
    },
    {
      "cell_type": "code",
      "source": [
        "print(Y.shape)\n",
        "print(Y.view(-1).shape)"
      ],
      "metadata": {
        "colab": {
          "base_uri": "https://localhost:8080/"
        },
        "id": "UECMY6BV_VZ_",
        "outputId": "b1b2e0bb-8e7a-4e94-af77-5db9de6e4751"
      },
      "execution_count": 47,
      "outputs": [
        {
          "output_type": "stream",
          "name": "stdout",
          "text": [
            "torch.Size([1, 5])\n",
            "torch.Size([5])\n"
          ]
        }
      ]
    },
    {
      "cell_type": "markdown",
      "source": [
        "레이블 데이터는 (1,5)의 크기를 갖는데, 마찬가지로 나중에 정확도를 측정할 때는 이걸 펼쳐서 계산할 예정입니다. 이 경우 (5)의 크기를 갖게 됩니다. 이제 옵티마이저와 손실 함수를 정의합시다."
      ],
      "metadata": {
        "id": "ztfSaei__bYs"
      }
    },
    {
      "cell_type": "code",
      "source": [
        "criterion = torch.nn.CrossEntropyLoss()\n",
        "optimizer = optim.Adam(net.parameters(), learning_rate)"
      ],
      "metadata": {
        "id": "xhVfwb1i_mGr"
      },
      "execution_count": 48,
      "outputs": []
    },
    {
      "cell_type": "markdown",
      "source": [
        "총 100번의 에포크를 학습합니다."
      ],
      "metadata": {
        "id": "Yr1nRVJMAn4y"
      }
    },
    {
      "cell_type": "code",
      "source": [
        "for i in range(100):\n",
        "  optimizer.zero_grad()\n",
        "  outputs = net(X)\n",
        "  loss = criterion(outputs.view(-1, input_size), Y.view(-1)) # view를 하는 이유는 Batch 차원 제거를 위해\n",
        "  loss.backward()\n",
        "  optimizer.step() # 위에서 optimizer 선언 시 넣어둔 파라미터 업데이트\n",
        "\n",
        "  # 아래는 모델이 실제 어떻게 예측했는지를 확인하기 위한 코드\n",
        "  result = outputs.data.numpy().argmax(axis=2)\n",
        "  result_str = ''.join([index_to_char[c] for c in np.squeeze(result)])\n",
        "  print(i, \"loss: \", loss.item(), \"prediction: \", result, \"true Y: \", y_data, \"prediction str: \", result_str)"
      ],
      "metadata": {
        "colab": {
          "base_uri": "https://localhost:8080/"
        },
        "id": "AdkYZfjqArZh",
        "outputId": "6630106a-0672-407a-a31f-079267f81c43"
      },
      "execution_count": 49,
      "outputs": [
        {
          "output_type": "stream",
          "name": "stdout",
          "text": [
            "0 loss:  1.743497610092163 prediction:  [[0 1 1 1 1]] true Y:  [[4, 4, 3, 2, 0]] prediction str:  !aaaa\n",
            "1 loss:  1.4929311275482178 prediction:  [[0 2 3 2 0]] true Y:  [[4, 4, 3, 2, 0]] prediction str:  !ele!\n",
            "2 loss:  1.2813503742218018 prediction:  [[4 3 3 2 0]] true Y:  [[4, 4, 3, 2, 0]] prediction str:  plle!\n",
            "3 loss:  1.0708674192428589 prediction:  [[4 4 4 2 0]] true Y:  [[4, 4, 3, 2, 0]] prediction str:  pppe!\n",
            "4 loss:  0.8862333297729492 prediction:  [[4 4 4 2 0]] true Y:  [[4, 4, 3, 2, 0]] prediction str:  pppe!\n",
            "5 loss:  0.7405171394348145 prediction:  [[4 4 4 2 0]] true Y:  [[4, 4, 3, 2, 0]] prediction str:  pppe!\n",
            "6 loss:  0.6162558794021606 prediction:  [[4 4 4 2 0]] true Y:  [[4, 4, 3, 2, 0]] prediction str:  pppe!\n",
            "7 loss:  0.5135535001754761 prediction:  [[4 4 4 2 0]] true Y:  [[4, 4, 3, 2, 0]] prediction str:  pppe!\n",
            "8 loss:  0.423300564289093 prediction:  [[4 4 4 2 0]] true Y:  [[4, 4, 3, 2, 0]] prediction str:  pppe!\n",
            "9 loss:  0.339761346578598 prediction:  [[4 4 3 2 0]] true Y:  [[4, 4, 3, 2, 0]] prediction str:  pple!\n",
            "10 loss:  0.2665984034538269 prediction:  [[4 4 3 2 0]] true Y:  [[4, 4, 3, 2, 0]] prediction str:  pple!\n",
            "11 loss:  0.216007262468338 prediction:  [[4 4 3 2 0]] true Y:  [[4, 4, 3, 2, 0]] prediction str:  pple!\n",
            "12 loss:  0.16205820441246033 prediction:  [[4 4 3 2 0]] true Y:  [[4, 4, 3, 2, 0]] prediction str:  pple!\n",
            "13 loss:  0.12151489406824112 prediction:  [[4 4 3 2 0]] true Y:  [[4, 4, 3, 2, 0]] prediction str:  pple!\n",
            "14 loss:  0.0946103110909462 prediction:  [[4 4 3 2 0]] true Y:  [[4, 4, 3, 2, 0]] prediction str:  pple!\n",
            "15 loss:  0.06804729998111725 prediction:  [[4 4 3 2 0]] true Y:  [[4, 4, 3, 2, 0]] prediction str:  pple!\n",
            "16 loss:  0.04910711944103241 prediction:  [[4 4 3 2 0]] true Y:  [[4, 4, 3, 2, 0]] prediction str:  pple!\n",
            "17 loss:  0.03994806483387947 prediction:  [[4 4 3 2 0]] true Y:  [[4, 4, 3, 2, 0]] prediction str:  pple!\n",
            "18 loss:  0.02875680662691593 prediction:  [[4 4 3 2 0]] true Y:  [[4, 4, 3, 2, 0]] prediction str:  pple!\n",
            "19 loss:  0.02075490728020668 prediction:  [[4 4 3 2 0]] true Y:  [[4, 4, 3, 2, 0]] prediction str:  pple!\n",
            "20 loss:  0.016546953469514847 prediction:  [[4 4 3 2 0]] true Y:  [[4, 4, 3, 2, 0]] prediction str:  pple!\n",
            "21 loss:  0.013556865975260735 prediction:  [[4 4 3 2 0]] true Y:  [[4, 4, 3, 2, 0]] prediction str:  pple!\n",
            "22 loss:  0.010956968180835247 prediction:  [[4 4 3 2 0]] true Y:  [[4, 4, 3, 2, 0]] prediction str:  pple!\n",
            "23 loss:  0.008788073435425758 prediction:  [[4 4 3 2 0]] true Y:  [[4, 4, 3, 2, 0]] prediction str:  pple!\n",
            "24 loss:  0.007140956819057465 prediction:  [[4 4 3 2 0]] true Y:  [[4, 4, 3, 2, 0]] prediction str:  pple!\n",
            "25 loss:  0.005957451649010181 prediction:  [[4 4 3 2 0]] true Y:  [[4, 4, 3, 2, 0]] prediction str:  pple!\n",
            "26 loss:  0.00510936276987195 prediction:  [[4 4 3 2 0]] true Y:  [[4, 4, 3, 2, 0]] prediction str:  pple!\n",
            "27 loss:  0.004479090683162212 prediction:  [[4 4 3 2 0]] true Y:  [[4, 4, 3, 2, 0]] prediction str:  pple!\n",
            "28 loss:  0.00398436700925231 prediction:  [[4 4 3 2 0]] true Y:  [[4, 4, 3, 2, 0]] prediction str:  pple!\n",
            "29 loss:  0.0035751238465309143 prediction:  [[4 4 3 2 0]] true Y:  [[4, 4, 3, 2, 0]] prediction str:  pple!\n",
            "30 loss:  0.0032236878760159016 prediction:  [[4 4 3 2 0]] true Y:  [[4, 4, 3, 2, 0]] prediction str:  pple!\n",
            "31 loss:  0.0029160319827497005 prediction:  [[4 4 3 2 0]] true Y:  [[4, 4, 3, 2, 0]] prediction str:  pple!\n",
            "32 loss:  0.0026449798606336117 prediction:  [[4 4 3 2 0]] true Y:  [[4, 4, 3, 2, 0]] prediction str:  pple!\n",
            "33 loss:  0.00240651099011302 prediction:  [[4 4 3 2 0]] true Y:  [[4, 4, 3, 2, 0]] prediction str:  pple!\n",
            "34 loss:  0.0021975073032081127 prediction:  [[4 4 3 2 0]] true Y:  [[4, 4, 3, 2, 0]] prediction str:  pple!\n",
            "35 loss:  0.002014871221035719 prediction:  [[4 4 3 2 0]] true Y:  [[4, 4, 3, 2, 0]] prediction str:  pple!\n",
            "36 loss:  0.0018557660514488816 prediction:  [[4 4 3 2 0]] true Y:  [[4, 4, 3, 2, 0]] prediction str:  pple!\n",
            "37 loss:  0.0017172308871522546 prediction:  [[4 4 3 2 0]] true Y:  [[4, 4, 3, 2, 0]] prediction str:  pple!\n",
            "38 loss:  0.0015963974874466658 prediction:  [[4 4 3 2 0]] true Y:  [[4, 4, 3, 2, 0]] prediction str:  pple!\n",
            "39 loss:  0.0014909415040165186 prediction:  [[4 4 3 2 0]] true Y:  [[4, 4, 3, 2, 0]] prediction str:  pple!\n",
            "40 loss:  0.001398703781887889 prediction:  [[4 4 3 2 0]] true Y:  [[4, 4, 3, 2, 0]] prediction str:  pple!\n",
            "41 loss:  0.001317641930654645 prediction:  [[4 4 3 2 0]] true Y:  [[4, 4, 3, 2, 0]] prediction str:  pple!\n",
            "42 loss:  0.0012461883015930653 prediction:  [[4 4 3 2 0]] true Y:  [[4, 4, 3, 2, 0]] prediction str:  pple!\n",
            "43 loss:  0.0011830361327156425 prediction:  [[4 4 3 2 0]] true Y:  [[4, 4, 3, 2, 0]] prediction str:  pple!\n",
            "44 loss:  0.0011270447866991162 prediction:  [[4 4 3 2 0]] true Y:  [[4, 4, 3, 2, 0]] prediction str:  pple!\n",
            "45 loss:  0.0010771204251796007 prediction:  [[4 4 3 2 0]] true Y:  [[4, 4, 3, 2, 0]] prediction str:  pple!\n",
            "46 loss:  0.001032478641718626 prediction:  [[4 4 3 2 0]] true Y:  [[4, 4, 3, 2, 0]] prediction str:  pple!\n",
            "47 loss:  0.0009924774058163166 prediction:  [[4 4 3 2 0]] true Y:  [[4, 4, 3, 2, 0]] prediction str:  pple!\n",
            "48 loss:  0.0009564267238602042 prediction:  [[4 4 3 2 0]] true Y:  [[4, 4, 3, 2, 0]] prediction str:  pple!\n",
            "49 loss:  0.0009238513302989304 prediction:  [[4 4 3 2 0]] true Y:  [[4, 4, 3, 2, 0]] prediction str:  pple!\n",
            "50 loss:  0.000894346390850842 prediction:  [[4 4 3 2 0]] true Y:  [[4, 4, 3, 2, 0]] prediction str:  pple!\n",
            "51 loss:  0.0008675312856212258 prediction:  [[4 4 3 2 0]] true Y:  [[4, 4, 3, 2, 0]] prediction str:  pple!\n",
            "52 loss:  0.0008430252783000469 prediction:  [[4 4 3 2 0]] true Y:  [[4, 4, 3, 2, 0]] prediction str:  pple!\n",
            "53 loss:  0.00082063814625144 prediction:  [[4 4 3 2 0]] true Y:  [[4, 4, 3, 2, 0]] prediction str:  pple!\n",
            "54 loss:  0.0008001796086318791 prediction:  [[4 4 3 2 0]] true Y:  [[4, 4, 3, 2, 0]] prediction str:  pple!\n",
            "55 loss:  0.0007812209660187364 prediction:  [[4 4 3 2 0]] true Y:  [[4, 4, 3, 2, 0]] prediction str:  pple!\n",
            "56 loss:  0.0007637623348273337 prediction:  [[4 4 3 2 0]] true Y:  [[4, 4, 3, 2, 0]] prediction str:  pple!\n",
            "57 loss:  0.000747613376006484 prediction:  [[4 4 3 2 0]] true Y:  [[4, 4, 3, 2, 0]] prediction str:  pple!\n",
            "58 loss:  0.0007326549966819584 prediction:  [[4 4 3 2 0]] true Y:  [[4, 4, 3, 2, 0]] prediction str:  pple!\n",
            "59 loss:  0.0007187681621871889 prediction:  [[4 4 3 2 0]] true Y:  [[4, 4, 3, 2, 0]] prediction str:  pple!\n",
            "60 loss:  0.0007057386101223528 prediction:  [[4 4 3 2 0]] true Y:  [[4, 4, 3, 2, 0]] prediction str:  pple!\n",
            "61 loss:  0.0006935902056284249 prediction:  [[4 4 3 2 0]] true Y:  [[4, 4, 3, 2, 0]] prediction str:  pple!\n",
            "62 loss:  0.000682203855831176 prediction:  [[4 4 3 2 0]] true Y:  [[4, 4, 3, 2, 0]] prediction str:  pple!\n",
            "63 loss:  0.0006715080817230046 prediction:  [[4 4 3 2 0]] true Y:  [[4, 4, 3, 2, 0]] prediction str:  pple!\n",
            "64 loss:  0.0006614791927859187 prediction:  [[4 4 3 2 0]] true Y:  [[4, 4, 3, 2, 0]] prediction str:  pple!\n",
            "65 loss:  0.0006520219030790031 prediction:  [[4 4 3 2 0]] true Y:  [[4, 4, 3, 2, 0]] prediction str:  pple!\n",
            "66 loss:  0.0006429695058614016 prediction:  [[4 4 3 2 0]] true Y:  [[4, 4, 3, 2, 0]] prediction str:  pple!\n",
            "67 loss:  0.0006344410357996821 prediction:  [[4 4 3 2 0]] true Y:  [[4, 4, 3, 2, 0]] prediction str:  pple!\n",
            "68 loss:  0.0006264127441681921 prediction:  [[4 4 3 2 0]] true Y:  [[4, 4, 3, 2, 0]] prediction str:  pple!\n",
            "69 loss:  0.0006186701939441264 prediction:  [[4 4 3 2 0]] true Y:  [[4, 4, 3, 2, 0]] prediction str:  pple!\n",
            "70 loss:  0.0006113088456913829 prediction:  [[4 4 3 2 0]] true Y:  [[4, 4, 3, 2, 0]] prediction str:  pple!\n",
            "71 loss:  0.0006042808527126908 prediction:  [[4 4 3 2 0]] true Y:  [[4, 4, 3, 2, 0]] prediction str:  pple!\n",
            "72 loss:  0.0005976101383566856 prediction:  [[4 4 3 2 0]] true Y:  [[4, 4, 3, 2, 0]] prediction str:  pple!\n",
            "73 loss:  0.0005911776097491384 prediction:  [[4 4 3 2 0]] true Y:  [[4, 4, 3, 2, 0]] prediction str:  pple!\n",
            "74 loss:  0.0005849833833053708 prediction:  [[4 4 3 2 0]] true Y:  [[4, 4, 3, 2, 0]] prediction str:  pple!\n",
            "75 loss:  0.0005790033610537648 prediction:  [[4 4 3 2 0]] true Y:  [[4, 4, 3, 2, 0]] prediction str:  pple!\n",
            "76 loss:  0.0005732615827582777 prediction:  [[4 4 3 2 0]] true Y:  [[4, 4, 3, 2, 0]] prediction str:  pple!\n",
            "77 loss:  0.0005677818553522229 prediction:  [[4 4 3 2 0]] true Y:  [[4, 4, 3, 2, 0]] prediction str:  pple!\n",
            "78 loss:  0.0005624211626127362 prediction:  [[4 4 3 2 0]] true Y:  [[4, 4, 3, 2, 0]] prediction str:  pple!\n",
            "79 loss:  0.0005572749068960547 prediction:  [[4 4 3 2 0]] true Y:  [[4, 4, 3, 2, 0]] prediction str:  pple!\n",
            "80 loss:  0.0005522477440536022 prediction:  [[4 4 3 2 0]] true Y:  [[4, 4, 3, 2, 0]] prediction str:  pple!\n",
            "81 loss:  0.0005473396158777177 prediction:  [[4 4 3 2 0]] true Y:  [[4, 4, 3, 2, 0]] prediction str:  pple!\n",
            "82 loss:  0.0005426220595836639 prediction:  [[4 4 3 2 0]] true Y:  [[4, 4, 3, 2, 0]] prediction str:  pple!\n",
            "83 loss:  0.0005380474613048136 prediction:  [[4 4 3 2 0]] true Y:  [[4, 4, 3, 2, 0]] prediction str:  pple!\n",
            "84 loss:  0.0005335919559001923 prediction:  [[4 4 3 2 0]] true Y:  [[4, 4, 3, 2, 0]] prediction str:  pple!\n",
            "85 loss:  0.0005292078712955117 prediction:  [[4 4 3 2 0]] true Y:  [[4, 4, 3, 2, 0]] prediction str:  pple!\n",
            "86 loss:  0.0005249906098470092 prediction:  [[4 4 3 2 0]] true Y:  [[4, 4, 3, 2, 0]] prediction str:  pple!\n",
            "87 loss:  0.0005208447109907866 prediction:  [[4 4 3 2 0]] true Y:  [[4, 4, 3, 2, 0]] prediction str:  pple!\n",
            "88 loss:  0.0005167703493498266 prediction:  [[4 4 3 2 0]] true Y:  [[4, 4, 3, 2, 0]] prediction str:  pple!\n",
            "89 loss:  0.000512791215442121 prediction:  [[4 4 3 2 0]] true Y:  [[4, 4, 3, 2, 0]] prediction str:  pple!\n",
            "90 loss:  0.0005089788464829326 prediction:  [[4 4 3 2 0]] true Y:  [[4, 4, 3, 2, 0]] prediction str:  pple!\n",
            "91 loss:  0.0005051664775237441 prediction:  [[4 4 3 2 0]] true Y:  [[4, 4, 3, 2, 0]] prediction str:  pple!\n",
            "92 loss:  0.0005014970665797591 prediction:  [[4 4 3 2 0]] true Y:  [[4, 4, 3, 2, 0]] prediction str:  pple!\n",
            "93 loss:  0.0004978275974281132 prediction:  [[4 4 3 2 0]] true Y:  [[4, 4, 3, 2, 0]] prediction str:  pple!\n",
            "94 loss:  0.0004942296072840691 prediction:  [[4 4 3 2 0]] true Y:  [[4, 4, 3, 2, 0]] prediction str:  pple!\n",
            "95 loss:  0.0004907268448732793 prediction:  [[4 4 3 2 0]] true Y:  [[4, 4, 3, 2, 0]] prediction str:  pple!\n",
            "96 loss:  0.00048731942661106586 prediction:  [[4 4 3 2 0]] true Y:  [[4, 4, 3, 2, 0]] prediction str:  pple!\n",
            "97 loss:  0.0004839120083488524 prediction:  [[4 4 3 2 0]] true Y:  [[4, 4, 3, 2, 0]] prediction str:  pple!\n",
            "98 loss:  0.00048055226216092706 prediction:  [[4 4 3 2 0]] true Y:  [[4, 4, 3, 2, 0]] prediction str:  pple!\n",
            "99 loss:  0.0004773115215357393 prediction:  [[4 4 3 2 0]] true Y:  [[4, 4, 3, 2, 0]] prediction str:  pple!\n"
          ]
        }
      ]
    },
    {
      "cell_type": "markdown",
      "source": [],
      "metadata": {
        "id": "vgPwo8Siel3N"
      }
    }
  ]
}